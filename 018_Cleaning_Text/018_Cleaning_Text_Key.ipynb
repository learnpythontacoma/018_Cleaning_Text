{
 "cells": [
  {
   "cell_type": "markdown",
   "metadata": {},
   "source": [
    "<img src='graphics/text_cleaning.png'>\n",
    "\n",
    "<img src='graphics/spacer.png'>\n",
    "\n",
    "<center><font style=\"font-size:40px;\">Cleaning Text from Web Scraping Indeed </font></center>\n",
    "<center>Prepared and coded by Ben P. Meredith, Ed.D.</center>\n",
    "\n",
    "\n",
    "When we were last together, we began developing a program to web scrape job announcements from Indeed. In our program, we saved vital information from the job announcements to a Pandas DataFrame. \n",
    "\n",
    "We were also left with a few tasks to code prior to today's discussion. As you may recall, I tasked you to do the following:\n",
    "\n",
    ">1. Find and remove duplicate job announcements\n",
    ">1. Identify if a table already exists for a search term\n",
    "    - if it does exist, add new entries to the bottom of the table\n",
    "    - find and remove duplicate job announcements\n",
    "\n",
    "If you took the opportunity to work on the code for this program, you realized that the second task (Identify if a table already exists for a search term) required you to do a bit of investigation on your own. I hope that you took advantage of this opportunity and went out to StackOverFlow.com for your research. This task was not one that we covered prior to your challenge, but we will cover it in this notebook. \n",
    "\n",
    "There was a third task that we needed to do in order to make our data more valuable. If you took the opportunity to look at the data as it was pulled from Indeed, you will have noticed that it is far from clean. In fact, it is downright dirty with HTML marks and code. Later in this notebook, we will work together on cleaning that data so it is easier for us to process and thus work with it. This work will be our introduction to the data science sub-field called **Natural Language Processing**, which we will discuss below. But first, let's go over the assigned tasks and look at solutions. \n",
    "\n",
    "# Loading Fresh Libraries and Data\n",
    "## Loading Libraries"
   ]
  },
  {
   "cell_type": "code",
   "execution_count": 1,
   "metadata": {
    "ExecuteTime": {
     "end_time": "2020-05-26T21:07:13.199719Z",
     "start_time": "2020-05-26T21:07:12.517959Z"
    }
   },
   "outputs": [],
   "source": [
    "#Import our needed libraries\n",
    "\n",
    "import urllib\n",
    "import requests\n",
    "from bs4 import BeautifulSoup\n",
    "import pandas as pd\n",
    "import re\n",
    "from tqdm import tqdm\n",
    "from datetime import datetime"
   ]
  },
  {
   "cell_type": "markdown",
   "metadata": {},
   "source": [
    "## Loading our Pull Functions"
   ]
  },
  {
   "cell_type": "code",
   "execution_count": 2,
   "metadata": {
    "ExecuteTime": {
     "end_time": "2020-05-26T21:07:13.207673Z",
     "start_time": "2020-05-26T21:07:13.201271Z"
    }
   },
   "outputs": [],
   "source": [
    "def job_data_pull(url):\n",
    "    page = requests.get(url)# go to the page noted by the url\n",
    "    page_contents = BeautifulSoup(page.content, 'lxml')#extract the contents of the page\n",
    "    \n",
    "    #only getting the tags for organic job postings and not the ones that are sponsored\n",
    "    tags = page_contents.find_all('div', {'data-tn-component' : \"organicJob\"})\n",
    "    \n",
    "    #getting the list of companies that have the organic job posting tags\n",
    "    companies = [x.span.text for x in tags]\n",
    "    \n",
    "    #extracting the features like the company name, complete link, date, etc.\n",
    "    attributes = [x.h2.a.attrs for x in tags]\n",
    "    dates = [x.find_all('span', {'class':'date'}) for x in tags]\n",
    "    \n",
    "    # update attributes dictionaries with company name and date posted\n",
    "    [attributes[i].update({'company': companies[i].strip()}) for i, x in enumerate(attributes)]\n",
    "    [attributes[i].update({'date posted': dates[i][0].text.strip()}) for i, x in enumerate(attributes)]\n",
    "    return attributes"
   ]
  },
  {
   "cell_type": "markdown",
   "metadata": {},
   "source": [
    "## Identify if a Data Table with our Scrapes Already Exists using a Function"
   ]
  },
  {
   "cell_type": "code",
   "execution_count": 3,
   "metadata": {
    "ExecuteTime": {
     "end_time": "2020-05-26T21:07:13.213933Z",
     "start_time": "2020-05-26T21:07:13.210234Z"
    }
   },
   "outputs": [],
   "source": [
    "# Determine if a file exists within a pathway\n",
    "def find_file(pathway):#pathway is the path to the file\n",
    "    from pathlib import Path\n",
    "    pathway = Path(pathway)# convert the pathway to an actual path from a string\n",
    "    if pathway.exists():#Determine if the file exists\n",
    "        return 1 #1 = file exists\n",
    "    else: \n",
    "        return 0 # 0 = file does not exist"
   ]
  },
  {
   "cell_type": "code",
   "execution_count": 4,
   "metadata": {
    "ExecuteTime": {
     "end_time": "2020-05-26T21:07:13.221790Z",
     "start_time": "2020-05-26T21:07:13.216150Z"
    }
   },
   "outputs": [],
   "source": [
    "#Initialize the data_log by discovering if it exists. If it does, load it. Otherwise, form one. \n",
    "def initialize_data_log(job_title):\n",
    "    import pandas as pd\n",
    "    job_title = job_title.replace(' ', '_')\n",
    "    data_file = ('data/'+job_title+'_job_search.csv')\n",
    "    answer = find_file(data_file)\n",
    "    if answer == 1:\n",
    "        df = pd.read_csv(data_file, index_col=0)\n",
    "        df = df.drop(['level_0'], axis=1, errors='ignore')#Drops level_0 column that keeps showing up \n",
    "    else:\n",
    "        df = pd.DataFrame(columns=('job_id', 'title', 'company', 'url', 'text', 'pull_date'))\n",
    "        df.to_csv(data_file)\n",
    "    return df\n"
   ]
  },
  {
   "cell_type": "markdown",
   "metadata": {},
   "source": [
    "## Our Basic Scraping Program so We Can Grab Some Data for this Notebook Work"
   ]
  },
  {
   "cell_type": "code",
   "execution_count": 5,
   "metadata": {
    "ExecuteTime": {
     "end_time": "2020-05-26T21:07:56.598317Z",
     "start_time": "2020-05-26T21:07:13.224085Z"
    },
    "scrolled": true
   },
   "outputs": [
    {
     "name": "stdout",
     "output_type": "stream",
     "text": [
      "What job description are you interested in searching? data scientist\n",
      "What is your zip code?98101\n"
     ]
    },
    {
     "name": "stderr",
     "output_type": "stream",
     "text": [
      "14it [00:00, 610.56it/s]\n",
      "42it [00:35,  1.17it/s]\n"
     ]
    },
    {
     "data": {
      "text/html": [
       "<div>\n",
       "<style scoped>\n",
       "    .dataframe tbody tr th:only-of-type {\n",
       "        vertical-align: middle;\n",
       "    }\n",
       "\n",
       "    .dataframe tbody tr th {\n",
       "        vertical-align: top;\n",
       "    }\n",
       "\n",
       "    .dataframe thead th {\n",
       "        text-align: right;\n",
       "    }\n",
       "</style>\n",
       "<table border=\"1\" class=\"dataframe\">\n",
       "  <thead>\n",
       "    <tr style=\"text-align: right;\">\n",
       "      <th></th>\n",
       "      <th>job_id</th>\n",
       "      <th>title</th>\n",
       "      <th>company</th>\n",
       "      <th>url</th>\n",
       "      <th>text</th>\n",
       "      <th>pull_date</th>\n",
       "      <th>clean_text</th>\n",
       "    </tr>\n",
       "  </thead>\n",
       "  <tbody>\n",
       "    <tr>\n",
       "      <th>0</th>\n",
       "      <td>jl_ef4f45eee0d53000</td>\n",
       "      <td>Engineering Manager, Ads Machine Learning</td>\n",
       "      <td>Pinterest</td>\n",
       "      <td>https://www.indeed.com/viewjob?jk=ef4f45eee0d5...</td>\n",
       "      <td>&lt;div class=\"jobsearch-jobDescriptionText\" id=\"...</td>\n",
       "      <td>2020-05-25</td>\n",
       "      <td>&lt;p&gt;About Pinterest:&lt;p&gt;\\n&lt;p&gt;\\nMillions of peopl...</td>\n",
       "    </tr>\n",
       "    <tr>\n",
       "      <th>1</th>\n",
       "      <td>jl_b0fe1a91ffb0e24d</td>\n",
       "      <td>Applied Scientist</td>\n",
       "      <td>Amazon.com Services LLC</td>\n",
       "      <td>https://www.indeed.com/viewjob?jk=b0fe1a91ffb0...</td>\n",
       "      <td>&lt;div class=\"jobsearch-jobDescriptionText\" id=\"...</td>\n",
       "      <td>2020-05-25</td>\n",
       "      <td>- MS or PhD degree in computer science, opera...</td>\n",
       "    </tr>\n",
       "    <tr>\n",
       "      <th>2</th>\n",
       "      <td>jl_900d5e7e57d3225e</td>\n",
       "      <td>Data Scientist</td>\n",
       "      <td>Amazon.com Services LLC</td>\n",
       "      <td>https://www.indeed.com/viewjob?jk=900d5e7e57d3...</td>\n",
       "      <td>&lt;div class=\"jobsearch-jobDescriptionText\" id=\"...</td>\n",
       "      <td>2020-05-25</td>\n",
       "      <td>- PhD or equivalent Master's Degree plus 4+ y...</td>\n",
       "    </tr>\n",
       "    <tr>\n",
       "      <th>3</th>\n",
       "      <td>jl_a0de3ccca1e027a6</td>\n",
       "      <td>Sr Director of Data and Analytics</td>\n",
       "      <td>Equiscript</td>\n",
       "      <td>https://www.indeed.com/viewjob?jk=a0de3ccca1e0...</td>\n",
       "      <td>&lt;div class=\"jobsearch-jobDescriptionText\" id=\"...</td>\n",
       "      <td>2020-05-25</td>\n",
       "      <td>At Equiscript, we improve access to healthcare...</td>\n",
       "    </tr>\n",
       "    <tr>\n",
       "      <th>4</th>\n",
       "      <td>jl_5d0204fe56e8daee</td>\n",
       "      <td>ES Tech, Machine Learning Engineer</td>\n",
       "      <td>Amazon.com Services LLC</td>\n",
       "      <td>https://www.indeed.com/viewjob?jk=5d0204fe56e8...</td>\n",
       "      <td>&lt;div class=\"jobsearch-jobDescriptionText\" id=\"...</td>\n",
       "      <td>2020-05-25</td>\n",
       "      <td>- Programming experience with at least one mo...</td>\n",
       "    </tr>\n",
       "    <tr>\n",
       "      <th>5</th>\n",
       "      <td>jl_cbd17d6de801946f</td>\n",
       "      <td>Artificial Intelligence Architect, Manager - A...</td>\n",
       "      <td>Deloitte</td>\n",
       "      <td>https://www.indeed.com/viewjob?jk=cbd17d6de801...</td>\n",
       "      <td>&lt;div class=\"jobsearch-jobDescriptionText\" id=\"...</td>\n",
       "      <td>2020-05-25</td>\n",
       "      <td>Strategy &amp;amp; Analytics-Analytics and Cogniti...</td>\n",
       "    </tr>\n",
       "    <tr>\n",
       "      <th>6</th>\n",
       "      <td>jl_81b253498377e948</td>\n",
       "      <td>Conversational Artificial Intelligence Archite...</td>\n",
       "      <td>Deloitte</td>\n",
       "      <td>https://www.indeed.com/viewjob?jk=81b253498377...</td>\n",
       "      <td>&lt;div class=\"jobsearch-jobDescriptionText\" id=\"...</td>\n",
       "      <td>2020-05-25</td>\n",
       "      <td>Strategy &amp;amp; Analytics-Analytics and Cogniti...</td>\n",
       "    </tr>\n",
       "    <tr>\n",
       "      <th>7</th>\n",
       "      <td>jl_9e3fac3bc07e40a7</td>\n",
       "      <td>Computer Vision Architect, Manager - Applied A...</td>\n",
       "      <td>Deloitte</td>\n",
       "      <td>https://www.indeed.com/viewjob?jk=9e3fac3bc07e...</td>\n",
       "      <td>None</td>\n",
       "      <td>2020-05-25</td>\n",
       "      <td>Strategy &amp;amp; Analytics-Analytics and Cogniti...</td>\n",
       "    </tr>\n",
       "    <tr>\n",
       "      <th>8</th>\n",
       "      <td>jl_9fb36189ab1f631e</td>\n",
       "      <td>Software Development Engineer – Alexa AI- Seattle</td>\n",
       "      <td>Amazon.com Services LLC</td>\n",
       "      <td>https://www.indeed.com/viewjob?jk=9fb36189ab1f...</td>\n",
       "      <td>&lt;div class=\"jobsearch-jobDescriptionText\" id=\"...</td>\n",
       "      <td>2020-05-25</td>\n",
       "      <td>- 2+ years of non-internship professional sof...</td>\n",
       "    </tr>\n",
       "    <tr>\n",
       "      <th>9</th>\n",
       "      <td>jl_f317c915a56c7653</td>\n",
       "      <td>Conversational Artificial Intelligence Archite...</td>\n",
       "      <td>Deloitte</td>\n",
       "      <td>https://www.indeed.com/viewjob?jk=f317c915a56c...</td>\n",
       "      <td>&lt;div class=\"jobsearch-jobDescriptionText\" id=\"...</td>\n",
       "      <td>2020-05-25</td>\n",
       "      <td>Strategy &amp;amp; Analytics-Analytics and Cogniti...</td>\n",
       "    </tr>\n",
       "    <tr>\n",
       "      <th>10</th>\n",
       "      <td>jl_4e2a05094528b5a1</td>\n",
       "      <td>Artificial Intelligence Architect, Senior Mana...</td>\n",
       "      <td>Deloitte</td>\n",
       "      <td>https://www.indeed.com/viewjob?jk=4e2a05094528...</td>\n",
       "      <td>&lt;div class=\"jobsearch-jobDescriptionText\" id=\"...</td>\n",
       "      <td>2020-05-25</td>\n",
       "      <td>Strategy &amp;amp; Analytics-Analytics and Cogniti...</td>\n",
       "    </tr>\n",
       "    <tr>\n",
       "      <th>11</th>\n",
       "      <td>jl_108c98f8fb8d46fa</td>\n",
       "      <td>Computer Vision Architect, Senior Manager - Ap...</td>\n",
       "      <td>Deloitte</td>\n",
       "      <td>https://www.indeed.com/viewjob?jk=108c98f8fb8d...</td>\n",
       "      <td>&lt;div class=\"jobsearch-jobDescriptionText\" id=\"...</td>\n",
       "      <td>2020-05-25</td>\n",
       "      <td>Strategy &amp;amp; Analytics-Analytics and Cogniti...</td>\n",
       "    </tr>\n",
       "    <tr>\n",
       "      <th>12</th>\n",
       "      <td>jl_a03acf446a8a2c6b</td>\n",
       "      <td>Senior Data Scientist</td>\n",
       "      <td>Amazon.com Services LLC</td>\n",
       "      <td>https://www.indeed.com/viewjob?jk=a03acf446a8a...</td>\n",
       "      <td>&lt;div class=\"jobsearch-jobDescriptionText\" id=\"...</td>\n",
       "      <td>2020-05-25</td>\n",
       "      <td>Bachelor or Master's degree in Statistics, App...</td>\n",
       "    </tr>\n",
       "    <tr>\n",
       "      <th>13</th>\n",
       "      <td>jl_ae385acd8d2ea925</td>\n",
       "      <td>Senior Data &amp; Applied Scientist</td>\n",
       "      <td>Microsoft</td>\n",
       "      <td>https://www.indeed.com/viewjob?jk=ae385acd8d2e...</td>\n",
       "      <td>&lt;div class=\"jobsearch-jobDescriptionText\" id=\"...</td>\n",
       "      <td>2020-05-25</td>\n",
       "      <td>Analytics team in Azure Hardware Systems &amp;amp;...</td>\n",
       "    </tr>\n",
       "    <tr>\n",
       "      <th>14</th>\n",
       "      <td>jl_ef4f45eee0d53000</td>\n",
       "      <td>Engineering Manager, Ads Machine Learning</td>\n",
       "      <td>Pinterest</td>\n",
       "      <td>https://www.indeed.com/viewjob?jk=ef4f45eee0d5...</td>\n",
       "      <td>&lt;div class=\"jobsearch-jobDescriptionText\" id=\"...</td>\n",
       "      <td>2020-05-25</td>\n",
       "      <td>&lt;p&gt;About Pinterest:&lt;p&gt;\\n&lt;p&gt;\\nMillions of peopl...</td>\n",
       "    </tr>\n",
       "    <tr>\n",
       "      <th>15</th>\n",
       "      <td>jl_b0fe1a91ffb0e24d</td>\n",
       "      <td>Applied Scientist</td>\n",
       "      <td>Amazon.com Services LLC</td>\n",
       "      <td>https://www.indeed.com/viewjob?jk=b0fe1a91ffb0...</td>\n",
       "      <td>&lt;div class=\"jobsearch-jobDescriptionText\" id=\"...</td>\n",
       "      <td>2020-05-25</td>\n",
       "      <td>- MS or PhD degree in computer science, opera...</td>\n",
       "    </tr>\n",
       "    <tr>\n",
       "      <th>16</th>\n",
       "      <td>jl_900d5e7e57d3225e</td>\n",
       "      <td>Data Scientist</td>\n",
       "      <td>Amazon.com Services LLC</td>\n",
       "      <td>https://www.indeed.com/viewjob?jk=900d5e7e57d3...</td>\n",
       "      <td>&lt;div class=\"jobsearch-jobDescriptionText\" id=\"...</td>\n",
       "      <td>2020-05-25</td>\n",
       "      <td>- PhD or equivalent Master's Degree plus 4+ y...</td>\n",
       "    </tr>\n",
       "    <tr>\n",
       "      <th>17</th>\n",
       "      <td>jl_a0de3ccca1e027a6</td>\n",
       "      <td>Sr Director of Data and Analytics</td>\n",
       "      <td>Equiscript</td>\n",
       "      <td>https://www.indeed.com/viewjob?jk=a0de3ccca1e0...</td>\n",
       "      <td>&lt;div class=\"jobsearch-jobDescriptionText\" id=\"...</td>\n",
       "      <td>2020-05-25</td>\n",
       "      <td>At Equiscript, we improve access to healthcare...</td>\n",
       "    </tr>\n",
       "    <tr>\n",
       "      <th>18</th>\n",
       "      <td>jl_5d0204fe56e8daee</td>\n",
       "      <td>ES Tech, Machine Learning Engineer</td>\n",
       "      <td>Amazon.com Services LLC</td>\n",
       "      <td>https://www.indeed.com/viewjob?jk=5d0204fe56e8...</td>\n",
       "      <td>&lt;div class=\"jobsearch-jobDescriptionText\" id=\"...</td>\n",
       "      <td>2020-05-25</td>\n",
       "      <td>- Programming experience with at least one mo...</td>\n",
       "    </tr>\n",
       "    <tr>\n",
       "      <th>19</th>\n",
       "      <td>jl_cbd17d6de801946f</td>\n",
       "      <td>Artificial Intelligence Architect, Manager - A...</td>\n",
       "      <td>Deloitte</td>\n",
       "      <td>https://www.indeed.com/viewjob?jk=cbd17d6de801...</td>\n",
       "      <td>None</td>\n",
       "      <td>2020-05-25</td>\n",
       "      <td>Strategy &amp;amp; Analytics-Analytics and Cogniti...</td>\n",
       "    </tr>\n",
       "    <tr>\n",
       "      <th>20</th>\n",
       "      <td>jl_81b253498377e948</td>\n",
       "      <td>Conversational Artificial Intelligence Archite...</td>\n",
       "      <td>Deloitte</td>\n",
       "      <td>https://www.indeed.com/viewjob?jk=81b253498377...</td>\n",
       "      <td>&lt;div class=\"jobsearch-jobDescriptionText\" id=\"...</td>\n",
       "      <td>2020-05-25</td>\n",
       "      <td>Strategy &amp;amp; Analytics-Analytics and Cogniti...</td>\n",
       "    </tr>\n",
       "    <tr>\n",
       "      <th>21</th>\n",
       "      <td>jl_9e3fac3bc07e40a7</td>\n",
       "      <td>Computer Vision Architect, Manager - Applied A...</td>\n",
       "      <td>Deloitte</td>\n",
       "      <td>https://www.indeed.com/viewjob?jk=9e3fac3bc07e...</td>\n",
       "      <td>&lt;div class=\"jobsearch-jobDescriptionText\" id=\"...</td>\n",
       "      <td>2020-05-25</td>\n",
       "      <td>Strategy &amp;amp; Analytics-Analytics and Cogniti...</td>\n",
       "    </tr>\n",
       "    <tr>\n",
       "      <th>22</th>\n",
       "      <td>jl_f317c915a56c7653</td>\n",
       "      <td>Conversational Artificial Intelligence Archite...</td>\n",
       "      <td>Deloitte</td>\n",
       "      <td>https://www.indeed.com/viewjob?jk=f317c915a56c...</td>\n",
       "      <td>&lt;div class=\"jobsearch-jobDescriptionText\" id=\"...</td>\n",
       "      <td>2020-05-25</td>\n",
       "      <td>Strategy &amp;amp; Analytics-Analytics and Cogniti...</td>\n",
       "    </tr>\n",
       "    <tr>\n",
       "      <th>23</th>\n",
       "      <td>jl_9fb36189ab1f631e</td>\n",
       "      <td>Software Development Engineer – Alexa AI- Seattle</td>\n",
       "      <td>Amazon.com Services LLC</td>\n",
       "      <td>https://www.indeed.com/viewjob?jk=9fb36189ab1f...</td>\n",
       "      <td>&lt;div class=\"jobsearch-jobDescriptionText\" id=\"...</td>\n",
       "      <td>2020-05-25</td>\n",
       "      <td>- 2+ years of non-internship professional sof...</td>\n",
       "    </tr>\n",
       "    <tr>\n",
       "      <th>24</th>\n",
       "      <td>jl_4e2a05094528b5a1</td>\n",
       "      <td>Artificial Intelligence Architect, Senior Mana...</td>\n",
       "      <td>Deloitte</td>\n",
       "      <td>https://www.indeed.com/viewjob?jk=4e2a05094528...</td>\n",
       "      <td>&lt;div class=\"jobsearch-jobDescriptionText\" id=\"...</td>\n",
       "      <td>2020-05-25</td>\n",
       "      <td>Strategy &amp;amp; Analytics-Analytics and Cogniti...</td>\n",
       "    </tr>\n",
       "    <tr>\n",
       "      <th>25</th>\n",
       "      <td>jl_108c98f8fb8d46fa</td>\n",
       "      <td>Computer Vision Architect, Senior Manager - Ap...</td>\n",
       "      <td>Deloitte</td>\n",
       "      <td>https://www.indeed.com/viewjob?jk=108c98f8fb8d...</td>\n",
       "      <td>&lt;div class=\"jobsearch-jobDescriptionText\" id=\"...</td>\n",
       "      <td>2020-05-25</td>\n",
       "      <td>Strategy &amp;amp; Analytics-Analytics and Cogniti...</td>\n",
       "    </tr>\n",
       "    <tr>\n",
       "      <th>26</th>\n",
       "      <td>jl_a03acf446a8a2c6b</td>\n",
       "      <td>Senior Data Scientist</td>\n",
       "      <td>Amazon.com Services LLC</td>\n",
       "      <td>https://www.indeed.com/viewjob?jk=a03acf446a8a...</td>\n",
       "      <td>&lt;div class=\"jobsearch-jobDescriptionText\" id=\"...</td>\n",
       "      <td>2020-05-25</td>\n",
       "      <td>Bachelor or Master's degree in Statistics, App...</td>\n",
       "    </tr>\n",
       "    <tr>\n",
       "      <th>27</th>\n",
       "      <td>jl_ae385acd8d2ea925</td>\n",
       "      <td>Senior Data &amp; Applied Scientist</td>\n",
       "      <td>Microsoft</td>\n",
       "      <td>https://www.indeed.com/viewjob?jk=ae385acd8d2e...</td>\n",
       "      <td>&lt;div class=\"jobsearch-jobDescriptionText\" id=\"...</td>\n",
       "      <td>2020-05-25</td>\n",
       "      <td>Analytics team in Azure Hardware Systems &amp;amp;...</td>\n",
       "    </tr>\n",
       "    <tr>\n",
       "      <th>28</th>\n",
       "      <td>jl_fde68fcc4fdee919</td>\n",
       "      <td>Engineering Manager, Ads Machine Learning</td>\n",
       "      <td>Pinterest</td>\n",
       "      <td>https://www.indeed.com/viewjob?jk=fde68fcc4fde...</td>\n",
       "      <td>&lt;div class=\"jobsearch-jobDescriptionText\" id=\"...</td>\n",
       "      <td>2020-05-26</td>\n",
       "      <td>NaN</td>\n",
       "    </tr>\n",
       "    <tr>\n",
       "      <th>29</th>\n",
       "      <td>jl_b0fe1a91ffb0e24d</td>\n",
       "      <td>Applied Scientist</td>\n",
       "      <td>Amazon.com Services LLC</td>\n",
       "      <td>https://www.indeed.com/viewjob?jk=b0fe1a91ffb0...</td>\n",
       "      <td>&lt;div class=\"jobsearch-jobDescriptionText\" id=\"...</td>\n",
       "      <td>2020-05-26</td>\n",
       "      <td>NaN</td>\n",
       "    </tr>\n",
       "    <tr>\n",
       "      <th>30</th>\n",
       "      <td>jl_900d5e7e57d3225e</td>\n",
       "      <td>Data Scientist</td>\n",
       "      <td>Amazon.com Services LLC</td>\n",
       "      <td>https://www.indeed.com/viewjob?jk=900d5e7e57d3...</td>\n",
       "      <td>&lt;div class=\"jobsearch-jobDescriptionText\" id=\"...</td>\n",
       "      <td>2020-05-26</td>\n",
       "      <td>NaN</td>\n",
       "    </tr>\n",
       "    <tr>\n",
       "      <th>31</th>\n",
       "      <td>jl_a0de3ccca1e027a6</td>\n",
       "      <td>Sr Director of Data and Analytics</td>\n",
       "      <td>Equiscript</td>\n",
       "      <td>https://www.indeed.com/viewjob?jk=a0de3ccca1e0...</td>\n",
       "      <td>&lt;div class=\"jobsearch-jobDescriptionText\" id=\"...</td>\n",
       "      <td>2020-05-26</td>\n",
       "      <td>NaN</td>\n",
       "    </tr>\n",
       "    <tr>\n",
       "      <th>32</th>\n",
       "      <td>jl_5d0204fe56e8daee</td>\n",
       "      <td>ES Tech, Machine Learning Engineer</td>\n",
       "      <td>Amazon.com Services LLC</td>\n",
       "      <td>https://www.indeed.com/viewjob?jk=5d0204fe56e8...</td>\n",
       "      <td>&lt;div class=\"jobsearch-jobDescriptionText\" id=\"...</td>\n",
       "      <td>2020-05-26</td>\n",
       "      <td>NaN</td>\n",
       "    </tr>\n",
       "    <tr>\n",
       "      <th>33</th>\n",
       "      <td>jl_81b253498377e948</td>\n",
       "      <td>Conversational Artificial Intelligence Archite...</td>\n",
       "      <td>Deloitte</td>\n",
       "      <td>https://www.indeed.com/viewjob?jk=81b253498377...</td>\n",
       "      <td>&lt;div class=\"jobsearch-jobDescriptionText\" id=\"...</td>\n",
       "      <td>2020-05-26</td>\n",
       "      <td>NaN</td>\n",
       "    </tr>\n",
       "    <tr>\n",
       "      <th>34</th>\n",
       "      <td>jl_cbd17d6de801946f</td>\n",
       "      <td>Artificial Intelligence Architect, Manager - A...</td>\n",
       "      <td>Deloitte</td>\n",
       "      <td>https://www.indeed.com/viewjob?jk=cbd17d6de801...</td>\n",
       "      <td>&lt;div class=\"jobsearch-jobDescriptionText\" id=\"...</td>\n",
       "      <td>2020-05-26</td>\n",
       "      <td>NaN</td>\n",
       "    </tr>\n",
       "    <tr>\n",
       "      <th>35</th>\n",
       "      <td>jl_9e3fac3bc07e40a7</td>\n",
       "      <td>Computer Vision Architect, Manager - Applied A...</td>\n",
       "      <td>Deloitte</td>\n",
       "      <td>https://www.indeed.com/viewjob?jk=9e3fac3bc07e...</td>\n",
       "      <td>&lt;div class=\"jobsearch-jobDescriptionText\" id=\"...</td>\n",
       "      <td>2020-05-26</td>\n",
       "      <td>NaN</td>\n",
       "    </tr>\n",
       "    <tr>\n",
       "      <th>36</th>\n",
       "      <td>jl_f317c915a56c7653</td>\n",
       "      <td>Conversational Artificial Intelligence Archite...</td>\n",
       "      <td>Deloitte</td>\n",
       "      <td>https://www.indeed.com/viewjob?jk=f317c915a56c...</td>\n",
       "      <td>&lt;div class=\"jobsearch-jobDescriptionText\" id=\"...</td>\n",
       "      <td>2020-05-26</td>\n",
       "      <td>NaN</td>\n",
       "    </tr>\n",
       "    <tr>\n",
       "      <th>37</th>\n",
       "      <td>jl_9fb36189ab1f631e</td>\n",
       "      <td>Software Development Engineer – Alexa AI- Seattle</td>\n",
       "      <td>Amazon.com Services LLC</td>\n",
       "      <td>https://www.indeed.com/viewjob?jk=9fb36189ab1f...</td>\n",
       "      <td>&lt;div class=\"jobsearch-jobDescriptionText\" id=\"...</td>\n",
       "      <td>2020-05-26</td>\n",
       "      <td>NaN</td>\n",
       "    </tr>\n",
       "    <tr>\n",
       "      <th>38</th>\n",
       "      <td>jl_4e2a05094528b5a1</td>\n",
       "      <td>Artificial Intelligence Architect, Senior Mana...</td>\n",
       "      <td>Deloitte</td>\n",
       "      <td>https://www.indeed.com/viewjob?jk=4e2a05094528...</td>\n",
       "      <td>&lt;div class=\"jobsearch-jobDescriptionText\" id=\"...</td>\n",
       "      <td>2020-05-26</td>\n",
       "      <td>NaN</td>\n",
       "    </tr>\n",
       "    <tr>\n",
       "      <th>39</th>\n",
       "      <td>jl_108c98f8fb8d46fa</td>\n",
       "      <td>Computer Vision Architect, Senior Manager - Ap...</td>\n",
       "      <td>Deloitte</td>\n",
       "      <td>https://www.indeed.com/viewjob?jk=108c98f8fb8d...</td>\n",
       "      <td>&lt;div class=\"jobsearch-jobDescriptionText\" id=\"...</td>\n",
       "      <td>2020-05-26</td>\n",
       "      <td>NaN</td>\n",
       "    </tr>\n",
       "    <tr>\n",
       "      <th>40</th>\n",
       "      <td>jl_ae385acd8d2ea925</td>\n",
       "      <td>Senior Data &amp; Applied Scientist</td>\n",
       "      <td>Microsoft</td>\n",
       "      <td>https://www.indeed.com/viewjob?jk=ae385acd8d2e...</td>\n",
       "      <td>&lt;div class=\"jobsearch-jobDescriptionText\" id=\"...</td>\n",
       "      <td>2020-05-26</td>\n",
       "      <td>NaN</td>\n",
       "    </tr>\n",
       "    <tr>\n",
       "      <th>41</th>\n",
       "      <td>jl_a03acf446a8a2c6b</td>\n",
       "      <td>Senior Data Scientist</td>\n",
       "      <td>Amazon.com Services LLC</td>\n",
       "      <td>https://www.indeed.com/viewjob?jk=a03acf446a8a...</td>\n",
       "      <td>&lt;div class=\"jobsearch-jobDescriptionText\" id=\"...</td>\n",
       "      <td>2020-05-26</td>\n",
       "      <td>NaN</td>\n",
       "    </tr>\n",
       "  </tbody>\n",
       "</table>\n",
       "</div>"
      ],
      "text/plain": [
       "                 job_id                                              title  \\\n",
       "0   jl_ef4f45eee0d53000          Engineering Manager, Ads Machine Learning   \n",
       "1   jl_b0fe1a91ffb0e24d                                  Applied Scientist   \n",
       "2   jl_900d5e7e57d3225e                                     Data Scientist   \n",
       "3   jl_a0de3ccca1e027a6                  Sr Director of Data and Analytics   \n",
       "4   jl_5d0204fe56e8daee                 ES Tech, Machine Learning Engineer   \n",
       "5   jl_cbd17d6de801946f  Artificial Intelligence Architect, Manager - A...   \n",
       "6   jl_81b253498377e948  Conversational Artificial Intelligence Archite...   \n",
       "7   jl_9e3fac3bc07e40a7  Computer Vision Architect, Manager - Applied A...   \n",
       "8   jl_9fb36189ab1f631e  Software Development Engineer – Alexa AI- Seattle   \n",
       "9   jl_f317c915a56c7653  Conversational Artificial Intelligence Archite...   \n",
       "10  jl_4e2a05094528b5a1  Artificial Intelligence Architect, Senior Mana...   \n",
       "11  jl_108c98f8fb8d46fa  Computer Vision Architect, Senior Manager - Ap...   \n",
       "12  jl_a03acf446a8a2c6b                              Senior Data Scientist   \n",
       "13  jl_ae385acd8d2ea925                    Senior Data & Applied Scientist   \n",
       "14  jl_ef4f45eee0d53000          Engineering Manager, Ads Machine Learning   \n",
       "15  jl_b0fe1a91ffb0e24d                                  Applied Scientist   \n",
       "16  jl_900d5e7e57d3225e                                     Data Scientist   \n",
       "17  jl_a0de3ccca1e027a6                  Sr Director of Data and Analytics   \n",
       "18  jl_5d0204fe56e8daee                 ES Tech, Machine Learning Engineer   \n",
       "19  jl_cbd17d6de801946f  Artificial Intelligence Architect, Manager - A...   \n",
       "20  jl_81b253498377e948  Conversational Artificial Intelligence Archite...   \n",
       "21  jl_9e3fac3bc07e40a7  Computer Vision Architect, Manager - Applied A...   \n",
       "22  jl_f317c915a56c7653  Conversational Artificial Intelligence Archite...   \n",
       "23  jl_9fb36189ab1f631e  Software Development Engineer – Alexa AI- Seattle   \n",
       "24  jl_4e2a05094528b5a1  Artificial Intelligence Architect, Senior Mana...   \n",
       "25  jl_108c98f8fb8d46fa  Computer Vision Architect, Senior Manager - Ap...   \n",
       "26  jl_a03acf446a8a2c6b                              Senior Data Scientist   \n",
       "27  jl_ae385acd8d2ea925                    Senior Data & Applied Scientist   \n",
       "28  jl_fde68fcc4fdee919          Engineering Manager, Ads Machine Learning   \n",
       "29  jl_b0fe1a91ffb0e24d                                  Applied Scientist   \n",
       "30  jl_900d5e7e57d3225e                                     Data Scientist   \n",
       "31  jl_a0de3ccca1e027a6                  Sr Director of Data and Analytics   \n",
       "32  jl_5d0204fe56e8daee                 ES Tech, Machine Learning Engineer   \n",
       "33  jl_81b253498377e948  Conversational Artificial Intelligence Archite...   \n",
       "34  jl_cbd17d6de801946f  Artificial Intelligence Architect, Manager - A...   \n",
       "35  jl_9e3fac3bc07e40a7  Computer Vision Architect, Manager - Applied A...   \n",
       "36  jl_f317c915a56c7653  Conversational Artificial Intelligence Archite...   \n",
       "37  jl_9fb36189ab1f631e  Software Development Engineer – Alexa AI- Seattle   \n",
       "38  jl_4e2a05094528b5a1  Artificial Intelligence Architect, Senior Mana...   \n",
       "39  jl_108c98f8fb8d46fa  Computer Vision Architect, Senior Manager - Ap...   \n",
       "40  jl_ae385acd8d2ea925                    Senior Data & Applied Scientist   \n",
       "41  jl_a03acf446a8a2c6b                              Senior Data Scientist   \n",
       "\n",
       "                    company  \\\n",
       "0                 Pinterest   \n",
       "1   Amazon.com Services LLC   \n",
       "2   Amazon.com Services LLC   \n",
       "3                Equiscript   \n",
       "4   Amazon.com Services LLC   \n",
       "5                  Deloitte   \n",
       "6                  Deloitte   \n",
       "7                  Deloitte   \n",
       "8   Amazon.com Services LLC   \n",
       "9                  Deloitte   \n",
       "10                 Deloitte   \n",
       "11                 Deloitte   \n",
       "12  Amazon.com Services LLC   \n",
       "13                Microsoft   \n",
       "14                Pinterest   \n",
       "15  Amazon.com Services LLC   \n",
       "16  Amazon.com Services LLC   \n",
       "17               Equiscript   \n",
       "18  Amazon.com Services LLC   \n",
       "19                 Deloitte   \n",
       "20                 Deloitte   \n",
       "21                 Deloitte   \n",
       "22                 Deloitte   \n",
       "23  Amazon.com Services LLC   \n",
       "24                 Deloitte   \n",
       "25                 Deloitte   \n",
       "26  Amazon.com Services LLC   \n",
       "27                Microsoft   \n",
       "28                Pinterest   \n",
       "29  Amazon.com Services LLC   \n",
       "30  Amazon.com Services LLC   \n",
       "31               Equiscript   \n",
       "32  Amazon.com Services LLC   \n",
       "33                 Deloitte   \n",
       "34                 Deloitte   \n",
       "35                 Deloitte   \n",
       "36                 Deloitte   \n",
       "37  Amazon.com Services LLC   \n",
       "38                 Deloitte   \n",
       "39                 Deloitte   \n",
       "40                Microsoft   \n",
       "41  Amazon.com Services LLC   \n",
       "\n",
       "                                                  url  \\\n",
       "0   https://www.indeed.com/viewjob?jk=ef4f45eee0d5...   \n",
       "1   https://www.indeed.com/viewjob?jk=b0fe1a91ffb0...   \n",
       "2   https://www.indeed.com/viewjob?jk=900d5e7e57d3...   \n",
       "3   https://www.indeed.com/viewjob?jk=a0de3ccca1e0...   \n",
       "4   https://www.indeed.com/viewjob?jk=5d0204fe56e8...   \n",
       "5   https://www.indeed.com/viewjob?jk=cbd17d6de801...   \n",
       "6   https://www.indeed.com/viewjob?jk=81b253498377...   \n",
       "7   https://www.indeed.com/viewjob?jk=9e3fac3bc07e...   \n",
       "8   https://www.indeed.com/viewjob?jk=9fb36189ab1f...   \n",
       "9   https://www.indeed.com/viewjob?jk=f317c915a56c...   \n",
       "10  https://www.indeed.com/viewjob?jk=4e2a05094528...   \n",
       "11  https://www.indeed.com/viewjob?jk=108c98f8fb8d...   \n",
       "12  https://www.indeed.com/viewjob?jk=a03acf446a8a...   \n",
       "13  https://www.indeed.com/viewjob?jk=ae385acd8d2e...   \n",
       "14  https://www.indeed.com/viewjob?jk=ef4f45eee0d5...   \n",
       "15  https://www.indeed.com/viewjob?jk=b0fe1a91ffb0...   \n",
       "16  https://www.indeed.com/viewjob?jk=900d5e7e57d3...   \n",
       "17  https://www.indeed.com/viewjob?jk=a0de3ccca1e0...   \n",
       "18  https://www.indeed.com/viewjob?jk=5d0204fe56e8...   \n",
       "19  https://www.indeed.com/viewjob?jk=cbd17d6de801...   \n",
       "20  https://www.indeed.com/viewjob?jk=81b253498377...   \n",
       "21  https://www.indeed.com/viewjob?jk=9e3fac3bc07e...   \n",
       "22  https://www.indeed.com/viewjob?jk=f317c915a56c...   \n",
       "23  https://www.indeed.com/viewjob?jk=9fb36189ab1f...   \n",
       "24  https://www.indeed.com/viewjob?jk=4e2a05094528...   \n",
       "25  https://www.indeed.com/viewjob?jk=108c98f8fb8d...   \n",
       "26  https://www.indeed.com/viewjob?jk=a03acf446a8a...   \n",
       "27  https://www.indeed.com/viewjob?jk=ae385acd8d2e...   \n",
       "28  https://www.indeed.com/viewjob?jk=fde68fcc4fde...   \n",
       "29  https://www.indeed.com/viewjob?jk=b0fe1a91ffb0...   \n",
       "30  https://www.indeed.com/viewjob?jk=900d5e7e57d3...   \n",
       "31  https://www.indeed.com/viewjob?jk=a0de3ccca1e0...   \n",
       "32  https://www.indeed.com/viewjob?jk=5d0204fe56e8...   \n",
       "33  https://www.indeed.com/viewjob?jk=81b253498377...   \n",
       "34  https://www.indeed.com/viewjob?jk=cbd17d6de801...   \n",
       "35  https://www.indeed.com/viewjob?jk=9e3fac3bc07e...   \n",
       "36  https://www.indeed.com/viewjob?jk=f317c915a56c...   \n",
       "37  https://www.indeed.com/viewjob?jk=9fb36189ab1f...   \n",
       "38  https://www.indeed.com/viewjob?jk=4e2a05094528...   \n",
       "39  https://www.indeed.com/viewjob?jk=108c98f8fb8d...   \n",
       "40  https://www.indeed.com/viewjob?jk=ae385acd8d2e...   \n",
       "41  https://www.indeed.com/viewjob?jk=a03acf446a8a...   \n",
       "\n",
       "                                                 text   pull_date  \\\n",
       "0   <div class=\"jobsearch-jobDescriptionText\" id=\"...  2020-05-25   \n",
       "1   <div class=\"jobsearch-jobDescriptionText\" id=\"...  2020-05-25   \n",
       "2   <div class=\"jobsearch-jobDescriptionText\" id=\"...  2020-05-25   \n",
       "3   <div class=\"jobsearch-jobDescriptionText\" id=\"...  2020-05-25   \n",
       "4   <div class=\"jobsearch-jobDescriptionText\" id=\"...  2020-05-25   \n",
       "5   <div class=\"jobsearch-jobDescriptionText\" id=\"...  2020-05-25   \n",
       "6   <div class=\"jobsearch-jobDescriptionText\" id=\"...  2020-05-25   \n",
       "7                                                None  2020-05-25   \n",
       "8   <div class=\"jobsearch-jobDescriptionText\" id=\"...  2020-05-25   \n",
       "9   <div class=\"jobsearch-jobDescriptionText\" id=\"...  2020-05-25   \n",
       "10  <div class=\"jobsearch-jobDescriptionText\" id=\"...  2020-05-25   \n",
       "11  <div class=\"jobsearch-jobDescriptionText\" id=\"...  2020-05-25   \n",
       "12  <div class=\"jobsearch-jobDescriptionText\" id=\"...  2020-05-25   \n",
       "13  <div class=\"jobsearch-jobDescriptionText\" id=\"...  2020-05-25   \n",
       "14  <div class=\"jobsearch-jobDescriptionText\" id=\"...  2020-05-25   \n",
       "15  <div class=\"jobsearch-jobDescriptionText\" id=\"...  2020-05-25   \n",
       "16  <div class=\"jobsearch-jobDescriptionText\" id=\"...  2020-05-25   \n",
       "17  <div class=\"jobsearch-jobDescriptionText\" id=\"...  2020-05-25   \n",
       "18  <div class=\"jobsearch-jobDescriptionText\" id=\"...  2020-05-25   \n",
       "19                                               None  2020-05-25   \n",
       "20  <div class=\"jobsearch-jobDescriptionText\" id=\"...  2020-05-25   \n",
       "21  <div class=\"jobsearch-jobDescriptionText\" id=\"...  2020-05-25   \n",
       "22  <div class=\"jobsearch-jobDescriptionText\" id=\"...  2020-05-25   \n",
       "23  <div class=\"jobsearch-jobDescriptionText\" id=\"...  2020-05-25   \n",
       "24  <div class=\"jobsearch-jobDescriptionText\" id=\"...  2020-05-25   \n",
       "25  <div class=\"jobsearch-jobDescriptionText\" id=\"...  2020-05-25   \n",
       "26  <div class=\"jobsearch-jobDescriptionText\" id=\"...  2020-05-25   \n",
       "27  <div class=\"jobsearch-jobDescriptionText\" id=\"...  2020-05-25   \n",
       "28  <div class=\"jobsearch-jobDescriptionText\" id=\"...  2020-05-26   \n",
       "29  <div class=\"jobsearch-jobDescriptionText\" id=\"...  2020-05-26   \n",
       "30  <div class=\"jobsearch-jobDescriptionText\" id=\"...  2020-05-26   \n",
       "31  <div class=\"jobsearch-jobDescriptionText\" id=\"...  2020-05-26   \n",
       "32  <div class=\"jobsearch-jobDescriptionText\" id=\"...  2020-05-26   \n",
       "33  <div class=\"jobsearch-jobDescriptionText\" id=\"...  2020-05-26   \n",
       "34  <div class=\"jobsearch-jobDescriptionText\" id=\"...  2020-05-26   \n",
       "35  <div class=\"jobsearch-jobDescriptionText\" id=\"...  2020-05-26   \n",
       "36  <div class=\"jobsearch-jobDescriptionText\" id=\"...  2020-05-26   \n",
       "37  <div class=\"jobsearch-jobDescriptionText\" id=\"...  2020-05-26   \n",
       "38  <div class=\"jobsearch-jobDescriptionText\" id=\"...  2020-05-26   \n",
       "39  <div class=\"jobsearch-jobDescriptionText\" id=\"...  2020-05-26   \n",
       "40  <div class=\"jobsearch-jobDescriptionText\" id=\"...  2020-05-26   \n",
       "41  <div class=\"jobsearch-jobDescriptionText\" id=\"...  2020-05-26   \n",
       "\n",
       "                                           clean_text  \n",
       "0   <p>About Pinterest:<p>\\n<p>\\nMillions of peopl...  \n",
       "1    - MS or PhD degree in computer science, opera...  \n",
       "2    - PhD or equivalent Master's Degree plus 4+ y...  \n",
       "3   At Equiscript, we improve access to healthcare...  \n",
       "4    - Programming experience with at least one mo...  \n",
       "5   Strategy &amp; Analytics-Analytics and Cogniti...  \n",
       "6   Strategy &amp; Analytics-Analytics and Cogniti...  \n",
       "7   Strategy &amp; Analytics-Analytics and Cogniti...  \n",
       "8    - 2+ years of non-internship professional sof...  \n",
       "9   Strategy &amp; Analytics-Analytics and Cogniti...  \n",
       "10  Strategy &amp; Analytics-Analytics and Cogniti...  \n",
       "11  Strategy &amp; Analytics-Analytics and Cogniti...  \n",
       "12  Bachelor or Master's degree in Statistics, App...  \n",
       "13  Analytics team in Azure Hardware Systems &amp;...  \n",
       "14  <p>About Pinterest:<p>\\n<p>\\nMillions of peopl...  \n",
       "15   - MS or PhD degree in computer science, opera...  \n",
       "16   - PhD or equivalent Master's Degree plus 4+ y...  \n",
       "17  At Equiscript, we improve access to healthcare...  \n",
       "18   - Programming experience with at least one mo...  \n",
       "19  Strategy &amp; Analytics-Analytics and Cogniti...  \n",
       "20  Strategy &amp; Analytics-Analytics and Cogniti...  \n",
       "21  Strategy &amp; Analytics-Analytics and Cogniti...  \n",
       "22  Strategy &amp; Analytics-Analytics and Cogniti...  \n",
       "23   - 2+ years of non-internship professional sof...  \n",
       "24  Strategy &amp; Analytics-Analytics and Cogniti...  \n",
       "25  Strategy &amp; Analytics-Analytics and Cogniti...  \n",
       "26  Bachelor or Master's degree in Statistics, App...  \n",
       "27  Analytics team in Azure Hardware Systems &amp;...  \n",
       "28                                                NaN  \n",
       "29                                                NaN  \n",
       "30                                                NaN  \n",
       "31                                                NaN  \n",
       "32                                                NaN  \n",
       "33                                                NaN  \n",
       "34                                                NaN  \n",
       "35                                                NaN  \n",
       "36                                                NaN  \n",
       "37                                                NaN  \n",
       "38                                                NaN  \n",
       "39                                                NaN  \n",
       "40                                                NaN  \n",
       "41                                                NaN  "
      ]
     },
     "execution_count": 5,
     "metadata": {},
     "output_type": "execute_result"
    }
   ],
   "source": [
    "#Ask the user what job description they are interested in searching for and where\n",
    "job_title = input('What job description are you interested in searching? ')\n",
    "location = input('What is your zip code?' )\n",
    "\n",
    "#establish a DF to store the data if one does not exist\n",
    "#if a search term data already exists, use it.\n",
    "\n",
    "df = initialize_data_log(job_title)\n",
    "\n",
    "\n",
    "#Establishes the variables we will need for the Indeed Search URL\n",
    "getVars = {'q' : job_title, 'l' : location, 'fromage' : 'last', 'sort' : 'date'}\n",
    "\n",
    "#Assembles the Indeed Search URL from the attributes above\n",
    "url = ('https://www.indeed.com/jobs?' + urllib.parse.urlencode(getVars))\n",
    "\n",
    "#Using our uniquely assembled URL, we run the subroutine to get the job data from the function we defined above.\n",
    "answer = job_data_pull(url)\n",
    "\n",
    "starting_length = len(df)\n",
    "\n",
    "# Using the data gathered by our function, we are assigning information to our DataFrame AND we are \n",
    "# getting the information we need to retrieve the job description text. \n",
    "for index, a in tqdm(enumerate(answer)):\n",
    "    df.loc[starting_length + index, 'url'] = a['id'].replace('jl_', 'https://www.indeed.com/viewjob?jk=')\n",
    "    df.loc[starting_length + index, 'title'] = a['title']\n",
    "    df.loc[starting_length + index, 'company'] = a['company']\n",
    "    df.loc[starting_length + index, 'job_id'] = a['id']\n",
    "    df.loc[starting_length + index, 'pull_date'] = datetime.date(datetime.now())\n",
    "\n",
    "# Using the URLs we generated in line 20, we use them in this FOR loop to retrieve the job description text. \n",
    "for index, url in tqdm(enumerate(df.url)):\n",
    "    try:\n",
    "        page = requests.get(url)\n",
    "        content = BeautifulSoup(page.content, \"html.parser\")\n",
    "        job_text = content.find('div', class_=\"jobsearch-jobDescriptionText\")\n",
    "        df.loc[index, 'text'] = str(job_text)\n",
    "    except KeyError:\n",
    "        df.loc[index, 'text'] = str(job_text)\n",
    "\n",
    "job_title = job_title.replace(' ', '_')\n",
    "df.to_csv('data/'+job_title+'_job_search.csv')\n",
    "        \n",
    "df"
   ]
  },
  {
   "cell_type": "code",
   "execution_count": 6,
   "metadata": {
    "ExecuteTime": {
     "end_time": "2020-05-26T21:07:56.604317Z",
     "start_time": "2020-05-26T21:07:56.600232Z"
    }
   },
   "outputs": [
    {
     "data": {
      "text/plain": [
       "(42, 7)"
      ]
     },
     "execution_count": 6,
     "metadata": {},
     "output_type": "execute_result"
    }
   ],
   "source": [
    "df.shape"
   ]
  },
  {
   "cell_type": "markdown",
   "metadata": {},
   "source": [
    "# Cleaning Text"
   ]
  },
  {
   "cell_type": "markdown",
   "metadata": {},
   "source": [
    "## The .replace( ) Command\n",
    "\n",
    "When it comes to cleaning text, the most basic and most often used command is the `.replace()` command. As you can safely assume, the `.replace()` command replaces text or special characters (user defined) with a user defined word, letters, or special character. \n",
    "\n",
    "The syntax of the `.replace()` command is simple:\n",
    "\n",
    "> text = text.replace('what you want to replace', 'what you want it replaced with')\n",
    "\n",
    "Let's look at the following example. "
   ]
  },
  {
   "cell_type": "code",
   "execution_count": 7,
   "metadata": {
    "ExecuteTime": {
     "end_time": "2020-05-26T21:07:56.608455Z",
     "start_time": "2020-05-26T21:07:56.606105Z"
    }
   },
   "outputs": [],
   "source": [
    "# Our test string\n",
    "\n",
    "test_text = 'The jolly merchant of Verona'"
   ]
  },
  {
   "cell_type": "markdown",
   "metadata": {},
   "source": [
    "For our `test_text`, we want to replace the word 'jolly' with the word 'happy'. Below is how we do that. "
   ]
  },
  {
   "cell_type": "code",
   "execution_count": 8,
   "metadata": {
    "ExecuteTime": {
     "end_time": "2020-05-26T21:07:56.614775Z",
     "start_time": "2020-05-26T21:07:56.611209Z"
    }
   },
   "outputs": [
    {
     "name": "stdout",
     "output_type": "stream",
     "text": [
      "The happy merchant of Verona\n"
     ]
    }
   ],
   "source": [
    "test_text = test_text.replace('jolly', 'happy')\n",
    "\n",
    "print(test_text)"
   ]
  },
  {
   "cell_type": "markdown",
   "metadata": {},
   "source": [
    "In our first example, we replaced an entire word. In the next example, we want to replace the punctuation. "
   ]
  },
  {
   "cell_type": "code",
   "execution_count": 9,
   "metadata": {
    "ExecuteTime": {
     "end_time": "2020-05-26T21:07:56.619443Z",
     "start_time": "2020-05-26T21:07:56.616781Z"
    }
   },
   "outputs": [],
   "source": [
    "test_text = 'You are kidding.'"
   ]
  },
  {
   "cell_type": "code",
   "execution_count": 10,
   "metadata": {
    "ExecuteTime": {
     "end_time": "2020-05-26T21:07:56.624345Z",
     "start_time": "2020-05-26T21:07:56.621237Z"
    }
   },
   "outputs": [
    {
     "name": "stdout",
     "output_type": "stream",
     "text": [
      "You are kidding!\n"
     ]
    }
   ],
   "source": [
    "test_text = test_text.replace('.', '!')\n",
    "\n",
    "print(test_text)"
   ]
  },
  {
   "cell_type": "markdown",
   "metadata": {},
   "source": [
    "## Exercise 1: Using the .replace( ) to clean text\n",
    "\n",
    "Now that we have covered the `.replace()` command, you can use it to develop a text cleaning function. \n",
    "\n",
    ">1. In the next block, pull the text from several rows in your DataFrame to examine them\n",
    ">1. Develop a text cleaning function using the `.replace()` command\n",
    ">1. When you have a function that works for you, run every entry in the ['text'] column in the DataFrame through the function and save the results in a new column titled 'clean_text'.\n",
    ">1. Finally, print out a sample of 5 entries from the 'clean_text' column alone to make sure your function is working. \n",
    "\n",
    "<font color='red'>**HINT**:</font> Think carefully about what you pull and what you replace text with. If you consider it carefully rather than jumping right into the task, you can make your text human readable and human pretty. "
   ]
  },
  {
   "cell_type": "code",
   "execution_count": 11,
   "metadata": {
    "ExecuteTime": {
     "end_time": "2020-05-26T21:07:56.632686Z",
     "start_time": "2020-05-26T21:07:56.625862Z"
    },
    "scrolled": true
   },
   "outputs": [
    {
     "name": "stdout",
     "output_type": "stream",
     "text": [
      "<div class=\"jobsearch-jobDescriptionText\" id=\"jobDescriptionText\"><div><p><b>About Pinterest:</b></p>\n",
      "<p>\n",
      "Millions of people across the world come to Pinterest to find new ideas every day. It’s where they get inspiration, dream about new possibilities and plan for what matters most. Our mission is to help those people find their inspiration and create a life they love. As a Pinterest employee, you’ll be challenged to take on work that upholds this mission and pushes Pinterest forward. You’ll grow as a person and a leader in your field, all the while helping users make their lives better in the positive corner of the internet.</p>\n",
      "<p>\n",
      "Before scaling their spend, advertisers want to know that Pinterest is performing for them. Come lead the team that interfaces with advertisers, collecting their sales data and matching it to our internal user databases, and build models and systems to connect the dots between the aspirations of pinners and the products offered by our partners.</p>\n",
      "<p><b>\n",
      "What you’ll do</b></p>\n",
      "<ul>\n",
      "<li>Build and improve the machine learning models for ads measurement.</li>\n",
      "<li>Develop models for user matching and conversion attributions.</li>\n",
      "<li>Develop new techniques to mine the offsite signals to drive ads performance, e.g., retargeting.</li>\n",
      "<li>Work on large scale data systems, backend services, and product integration</li>\n",
      "</ul>\n",
      "<p><b>What we’re looking for:</b></p>\n",
      "<ul>\n",
      "<li>MS or Ph.D degree in Computer Science, Statistics, or related field</li>\n",
      "<li>6+ years of relevant experience</li>\n",
      "<li>Strong industry experience in machine learning</li>\n",
      "<li>Cross-functional collaborator and strong communicator</li>\n",
      "<li>Preferred, but not required, background in computational advertising</li>\n",
      "</ul>\n",
      "<p>#LI-JY1</p></div></div> \n",
      "\n",
      "************************************************************************\n",
      "<div class=\"jobsearch-jobDescriptionText\" id=\"jobDescriptionText\"><ul><li>MS or PhD degree in computer science, operations research, statistics, engineering, or mathematics</li><li>5+ years of experience in the field with a proven track record</li><li>Experience with fast prototyping</li><li>Experience with data mining or machine learning applications</li><li>Experience working effectively with software engineering teams</li><li>Excellent written and verbal communication skills</li></ul>\n",
      "<br/>\n",
      "<p>Amazon AI is looking for world class scientists to join its AI Lab. This group is entrusted with developing core machine learning algorithms for AWS. As a part of the AI Lab you will invent, implement, and deploy state of the art machine learning algorithms and systems. You will build prototypes and explore novel solutions to new problems at scale. You will interact closely with our customers and with the academic community. You will be at the heart of a growing and exciting focus area for AWS and work with other acclaimed engineers and world famous scientists.</p>\n",
      "<br/>\n",
      "<div>As a Scientist in the AI Lab are expected be an expert in an area relevant for large scale machine learning and its applications. Our particular focuses include temporal models particularly for forecasting, recommendation systems and reinforcement learning. Experience with deploying ML in practice is a plus.<br/>\n",
      "<br/>\n",
      "Your position will require you to:<br/>\n",
      "<ul><li>Be an active member of a software development team.</li><li>Improve and accelerate our technology with science, statistical modeling, algorithm design, and prototyping.</li><li>Maintain an understanding of industry and technology trends in said area of research.</li><li>Contribute to Amazon's Intellectual Property through patents and/or external publications.</li><li>Understand business context to decisions made within and across groups.</li><li>Effectively communicate with senior management, colleagues, the open source community, and academia.</li><li>Recognize and help hire top talent in your field.</li><li>Mentor others in achieving their career growth potential.</li><li>Drive an independent research agenda that is well-aligned with business needs.</li></ul><br/>\n",
      "Amazon.com is an Equal Opportunity-Affirmative Action Employer – Minority / Female / Disability / Veteran / Gender Identity / Sexual Orientation.</div></div> \n",
      "\n",
      "************************************************************************\n",
      "<div class=\"jobsearch-jobDescriptionText\" id=\"jobDescriptionText\"><ul><li>PhD or equivalent Master's Degree plus 4+ years of experience in a quantitative field.</li><li>Strong analytical skills.</li><li>2+ years of experience of building predictive models for business and proficiency in model development and model validation.</li><li>Experience in efficiently handling large data sets, e.g., by using SQL, and databases in a business environment.</li><li>Experience with R, Python, Matlab or other scripting languages.</li></ul>\n",
      "<br/>\n",
      "<div>The Amazon Devices-Demand Planning team is seeking an outstanding scientist with strong analytical and communication skills to help with demand forecasting and supply optimization for the entire Amazon device family of products and accessories. We develop scalable and robust state-of-the-art solutions that involve learning from different data sources. This role is central to the continued growth of Amazon Device division as we have grown from the first Kindle E-Reader to a vast portfolio of Echo, Fire TV, Fire Tablet, E-Reader, Ring and many other devices. With better forecasts we drive down supply chain costs, enabling the offer of lower prices and better in-stock selection for our customers.<br/>\n",
      "In this role, you will have an opportunity to both develop advanced scientific solutions and drive critical customer and business impacts. You will play a key role to drive end-to-end solutions from understanding our business requirements, exploring a large amount of historical data, building prototypes and exploring conceptually new solutions, to working with partner teams for prod deployment. You will collaborate closely with engineering peers as well as business stakeholders. You will be at the heart of a growing and exciting focus area for Amazon Devices.<br/>\n",
      "<br/>\n",
      "You are an individual with outstanding analytical abilities, excellent communication skills, and are comfortable working with cross-functional teams and systems. You will be responsible for researching, prototyping, experimenting, and analyzing predictive models.<br/>\n",
      "<br/>\n",
      "Key responsibilities:<br/>\n",
      "<ul><li>Research and develop new methodologies for demand forecasting and price modeling.</li><li>Improve upon existing methodologies by adding new data sources and implementing model enhancements.</li><li>Drive scalable solutions.</li><li>Create and track accuracy and performance metrics (both technical and business metrics).</li><li>Create, enhance, and maintain technical documentation, and present to other scientists, engineers and business leaders.</li><li>Drive best practices on the team; mentor and guide junior members to achieve their career growth potential.</li></ul></div>\n",
      "<br/>\n",
      "<div><ul><li>Experience with time series modeling and machine learning forecasting.</li><li>Experience with price modeling.</li></ul></div></div> \n",
      "\n",
      "************************************************************************\n",
      "<div class=\"jobsearch-jobDescriptionText\" id=\"jobDescriptionText\"><div>At Equiscript, we improve access to healthcare in the communities we serve. We are able to do this through the motivation, ingenuity, and dedication of our talented team.<br/>\n",
      "<br/>\n",
      "Are you looking for a career where you can be part of a successful, growing business that is doing meaningful work in communities across the country?<br/>\n",
      "<br/>\n",
      "Located in historic North Charleston and Salt Lake City, Equiscript has been on the Inc. 5000 list of Fastest Growing Companies in the United States for the past four years and was chosen as one of the Best Places to Work in South Carolina three years in a row. We were also named one of Modern Healthcare's 2019 Best Places to Work in Healthcare. We are a dynamic, growing company that values its employees and the patients and health centers we serve. As passionate people who enjoy coming to work and being part of a team, we are looking for candidates who will support and embrace our company’s Cause and Core Values. If this is you, apply today!\n",
      "<div><br/>\n",
      "<b>Sr Director of Data &amp; Analytics:</b><b>:</b>\n",
      "<p><b>\n",
      "General Description:</b></p>\n",
      "<p>Equiscript is seeking an experienced candidate to serve in the role of Senior Director of Data and Analytics (SDDA). The SDDA will serve as a department and business leader, reporting to the CFO.</p>\n",
      "<p><b>High-Level Vision - :</b>the SDDR is responsible for the big picture of the data priorities and strategy for the company. A high level of understanding of both data and strategy and the company’s business is required.</p>\n",
      "<p><b>Implementation -:</b> The SDDR is responsible for the implementation of data-driven solutions within the company’s strategy at every level in the company. This requires the ability to manage teams on technical projects and build a business case around technical projects with many variables and uncertainty.</p>\n",
      "<p><b>Data Accuracy, Security, and Privacy - :</b>the SDDR is responsible for collecting and maintaining accurate data, ensuring data security, and devising and implementing data privacy policies. The SDDR is to work with leadership to develop, define, and implement legal and ethical guidelines for the collection and use of data.</p>\n",
      "<p><b>Identifying Business Opportunities - :</b>The SDDR is the person most responsible for identifying business opportunities discovered through data. In broad terms, the SDDR should increase revenue or decrease costs based upon information learned through data initiatives.</p>\n",
      "<p><b>Data-Driven Culture Leader - :</b>The SDDR must serve as the leader for a data-driven culture within the company. This includes communicating to everyone at the company the importance of data, security, and privacy as well as the business value of data.</p><br/>\n",
      "<p><b>Key Responsibilities:</b></p>\n",
      "<p>The SDDA will develop new ways to interpret and use data to advance Equiscript’s business. Working closely with the Sr. Director of Information Services, this position will build the structure and processes necessary to serve internal business users. In this role, the SDDA will define how Equiscript looks at reporting, tracking, and decision-making. The SDDA will:</p>\n",
      "<div><ul><li></li></ul><p>Have expertise in creating and driving business value and growth through the effective use of data.</p>\n",
      "<ul><li></li></ul><p>Collaborate with IT on the architecture, design, integration, and staging of data and the development, implementation, and maintenance of the associated data storage systems.</p>\n",
      "<ul><li></li></ul><p>Be responsible for developing and administering Equiscript’s data and information strategy in order to facilitate and enhance organizational decision-making and data utilization across the company.</p>\n",
      "<ul><li></li></ul><p>Lead a centralized Data and Analytics service and develop data-related policies and procedures; design, improve, and streamline organizational data systems; and drive innovation in the area of enterprise-wide data science, analysis, and visualization.</p>\n",
      "<ul><li></li></ul><p>Be responsible for recruiting staff or engaging contractors that can use emerging technologies to improve the performance of the company.</p>\n",
      "<ul><li></li></ul><p>Be responsible for developing and administering Equiscript’s data and information strategy in order to facilitate and enhance organizational decision-making and data utilization across the company.</p>\n",
      "<ul><li></li></ul><p>Be responsible for overseeing the development and management of new machine learning and predictive modeling algorithms.</p>\n",
      "<ul><li></li></ul><p>Be responsible for communicating effectively with all company departments and helping those departments perform to a higher standard with tools developed under the oversight of the SDDA.</p>\n",
      "<ul><li></li></ul><p>Serve as a system-wide leader for data and analytics. Working closely with our client, patient, and pharmacy facing teams, develop a comprehensive understanding of the company’s overall business goals and data analytics needs</p>\n",
      "<ul><li></li></ul><p>Analyze data, identify trends, and recommend how to improve and grow the business</p>\n",
      "<ul><li></li></ul><p>Build and establish the automation of reports &amp; dashboards – identify and select analytics partners to improve reporting</p>\n",
      "<ul><li></li></ul><p>Own and expand patient identification and patient lifecycle and lifetime value reporting</p>\n",
      "<ul><li></li></ul><p>Present data in a clear and concise way to the executive team</p>\n",
      "<ul><li></li></ul><p>Research the latest technologies and assess their impact on business trends</p><br/>\n",
      "</div><p><b>Professional Qualities:</b></p>\n",
      "<div><ul><li></li></ul><p>Evidence of strong leadership and communication skills at a C- or board level</p>\n",
      "<ul><li></li></ul><p>Experience in information management projects and programs</p>\n",
      "<ul><li></li></ul><p>Familiarity with big data solutions</p>\n",
      "<ul><li></li></ul><p>Familiarity with data governance and quality control</p>\n",
      "<ul><li></li></ul><p>Background in statistics or mathematics</p>\n",
      "<ul><li></li></ul><p>Experience with creating best practices and methodologies for technical projects</p>\n",
      "<ul><li></li></ul><p>Experience managing technical teams</p>\n",
      "<ul><li></li></ul><p>Understanding of and experience building business cases for large technical projects</p>\n",
      "<ul><li></li></ul><p>Familiarity with data modelling and visualization techniques</p>\n",
      "<ul><li></li></ul><p>Strong business experience in the field</p><br/>\n",
      "</div><p><b>Preferred Experience:</b></p>\n",
      "<div><ul><li></li></ul><p>Bachelor’s or graduate degree in a quantitative field such as Mathematics, Statistics, Computer Science, Finance, Economics, or a related field.</p>\n",
      "<ul><li></li></ul><p>5-8 years of experience working with data analytics teams to provide reporting, analysis, modeling, and strategic insight</p>\n",
      "<ul><li></li></ul><p>Experience with a variety of analytics platforms and database programming languages (i.e. CRM, Web Analytics, BI tools, etc)</p>\n",
      "<ul><li></li></ul><p>Experience in integrating complex, inter-departmental processes and information strategies, and/or designing strategic metrics and scorecards required.</p>\n",
      "<ul><li></li></ul><p>Experience running data analytics teams using the latest data mining, machine learning and/or artificial intelligence techniques required. Clinical background, or technical background in the healthcare domain is highly desirable.</p>\n",
      "<ul><li></li></ul><p>Hands-on experience with implementing data management programs preferred.</p>\n",
      "<ul><li></li></ul><p>Ability to provide written and oral interpretation of highly specialized terms and data, and the ability to present this data to others with different levels of expertise</p><br/>\n",
      "</div><p><br/>\n",
      "<b>Computer Skills:</b><br/>\n",
      "</p><div><ul><li>Statistical analysis software/packages such as R, Minitab, SAS/STAT, etc.</li></ul>\n",
      "<ul><li></li></ul><p>Visualization/BI tools such as Tableau, PowerBI, etc.</p>\n",
      "<ul><li></li></ul><p>Ability to write and tune SQL queries</p>\n",
      "<ul><li></li></ul><p>Advanced Database/warehouse/lake knowledge; Master Data Management (MDM) applications; and Extract-Transform-Load (ETL/ELT) tool</p><br/>\n",
      "</div><p><b>Physical Requirements:</b></p>\n",
      "<div><ul><li></li></ul><p>Requires the ability to sit or stand for long periods of time, occasional stooping, and reaching; May require lifting up to 25 pounds; requires a normal range of vision and hearing with or without accommodations.</p><br/>\n",
      "</div><p><b>Additional Information:</b></p>\n",
      "<div><ul><li></li></ul><p>Cleared Background Check Required</p><br/>\n",
      "</div><p><b>Employment Information:</b></p>\n",
      "<div><ul><li></li></ul><p>Position located in North Charleston, SC but remote candidates will be considered. Remote candidates will be expected to travel approximately 20% to the main office.</p>\n",
      "<ul><li></li></ul><p>Benefits include health plan, dental, vision, paid time off</p>\n",
      "<ul><li></li></ul><p>Flex time</p>\n",
      "</div><div><ul><li></li></ul><p>401k with up to 4% match</p>\n",
      "</div></div><p><b>Benefits of Full Time Employment with Equiscript:</b></p>\n",
      "<div><ul><li>Competitive salaries</li></ul>\n",
      "<ul><li>Interesting, challenging, meaningful work</li></ul>\n",
      "<ul><li>Bright, high quality teammates</li></ul>\n",
      "<ul><li>Strong company culture based on teamwork and healthy competition</li></ul>\n",
      "<ul><li>Group health, dental, vision, life and disability insurance</li></ul>\n",
      "<ul><li>401K with up to a 4% match</li></ul>\n",
      "<ul><li>Wellness programs</li></ul>\n",
      "<ul><li>Company-provided training for personal and professional development</li></ul>\n",
      "<ul><li>Generous PTO Policy</li></ul>\n",
      "<ul><li>10 paid holidays annually</li></ul>\n",
      "<ul><li>Flexible schedule</li></ul>\n",
      "<ul><li>Casual dress code</li></ul>\n",
      "<ul><li>Parking</li></ul></div></div></div> \n",
      "\n",
      "************************************************************************\n"
     ]
    }
   ],
   "source": [
    "# Write a FOR loop that prints out the text from the first four rows of our DataFrame. \n",
    "# Make a separator between each full text entry - try \"print('\\n','*'*72)\" to see what this does. \n",
    "\n",
    "for iterator in range(0, 4):\n",
    "    print(df.loc[iterator, 'text'], '\\n')\n",
    "    print('*'*72)"
   ]
  },
  {
   "cell_type": "code",
   "execution_count": 12,
   "metadata": {
    "ExecuteTime": {
     "end_time": "2020-05-26T21:07:56.640437Z",
     "start_time": "2020-05-26T21:07:56.634451Z"
    }
   },
   "outputs": [],
   "source": [
    "# Write a function using the .replace() command that cleans the text. \n",
    "# Hint: It may take several lines of code.\n",
    "\n",
    "def text_cleaner(text):\n",
    "    text = str(text)\n",
    "    text = text.replace('<div class=\"jobsearch-jobDescriptionText\" id=\"jobDescriptionText\">', '')\n",
    "    text = text.replace('<b>', '')\n",
    "    text = text.replace('</b>', '')\n",
    "    text = text.replace('<br/>', '')\n",
    "    text = text.replace('<div>', '')\n",
    "    text = text.replace('</div>', '')\n",
    "    text = text.replace('<li>', ' - ')\n",
    "    text = text.replace('</li>', '')\n",
    "    text = text.replace('<ul>', '')\n",
    "    text = text.replace('</ul>', '')\n",
    "    text = text.replace('</p>', '<p>')\n",
    "    return text"
   ]
  },
  {
   "cell_type": "code",
   "execution_count": 13,
   "metadata": {
    "ExecuteTime": {
     "end_time": "2020-05-26T21:07:56.649675Z",
     "start_time": "2020-05-26T21:07:56.642284Z"
    },
    "scrolled": true
   },
   "outputs": [
    {
     "name": "stdout",
     "output_type": "stream",
     "text": [
      "<p>About Pinterest:<p>\n",
      "<p>\n",
      "Millions of people across the world come to Pinterest to find new ideas every day. It’s where they get inspiration, dream about new possibilities and plan for what matters most. Our mission is to help those people find their inspiration and create a life they love. As a Pinterest employee, you’ll be challenged to take on work that upholds this mission and pushes Pinterest forward. You’ll grow as a person and a leader in your field, all the while helping users make their lives better in the positive corner of the internet.<p>\n",
      "<p>\n",
      "Before scaling their spend, advertisers want to know that Pinterest is performing for them. Come lead the team that interfaces with advertisers, collecting their sales data and matching it to our internal user databases, and build models and systems to connect the dots between the aspirations of pinners and the products offered by our partners.<p>\n",
      "<p>\n",
      "What you’ll do<p>\n",
      "\n",
      " - Build and improve the machine learning models for ads measurement.\n",
      " - Develop models for user matching and conversion attributions.\n",
      " - Develop new techniques to mine the offsite signals to drive ads performance, e.g., retargeting.\n",
      " - Work on large scale data systems, backend services, and product integration\n",
      "\n",
      "<p>What we’re looking for:<p>\n",
      "\n",
      " - MS or Ph.D degree in Computer Science, Statistics, or related field\n",
      " - 6+ years of relevant experience\n",
      " - Strong industry experience in machine learning\n",
      " - Cross-functional collaborator and strong communicator\n",
      " - Preferred, but not required, background in computational advertising\n",
      "\n",
      "<p>#LI-JY1<p> \n",
      "\n",
      " ************************************************************************ \n",
      "\n",
      "\n",
      " - MS or PhD degree in computer science, operations research, statistics, engineering, or mathematics - 5+ years of experience in the field with a proven track record - Experience with fast prototyping - Experience with data mining or machine learning applications - Experience working effectively with software engineering teams - Excellent written and verbal communication skills\n",
      "\n",
      "<p>Amazon AI is looking for world class scientists to join its AI Lab. This group is entrusted with developing core machine learning algorithms for AWS. As a part of the AI Lab you will invent, implement, and deploy state of the art machine learning algorithms and systems. You will build prototypes and explore novel solutions to new problems at scale. You will interact closely with our customers and with the academic community. You will be at the heart of a growing and exciting focus area for AWS and work with other acclaimed engineers and world famous scientists.<p>\n",
      "\n",
      "As a Scientist in the AI Lab are expected be an expert in an area relevant for large scale machine learning and its applications. Our particular focuses include temporal models particularly for forecasting, recommendation systems and reinforcement learning. Experience with deploying ML in practice is a plus.\n",
      "\n",
      "Your position will require you to:\n",
      " - Be an active member of a software development team. - Improve and accelerate our technology with science, statistical modeling, algorithm design, and prototyping. - Maintain an understanding of industry and technology trends in said area of research. - Contribute to Amazon's Intellectual Property through patents and/or external publications. - Understand business context to decisions made within and across groups. - Effectively communicate with senior management, colleagues, the open source community, and academia. - Recognize and help hire top talent in your field. - Mentor others in achieving their career growth potential. - Drive an independent research agenda that is well-aligned with business needs.\n",
      "Amazon.com is an Equal Opportunity-Affirmative Action Employer – Minority / Female / Disability / Veteran / Gender Identity / Sexual Orientation. \n",
      "\n",
      " ************************************************************************ \n",
      "\n",
      "\n",
      " - PhD or equivalent Master's Degree plus 4+ years of experience in a quantitative field. - Strong analytical skills. - 2+ years of experience of building predictive models for business and proficiency in model development and model validation. - Experience in efficiently handling large data sets, e.g., by using SQL, and databases in a business environment. - Experience with R, Python, Matlab or other scripting languages.\n",
      "\n",
      "The Amazon Devices-Demand Planning team is seeking an outstanding scientist with strong analytical and communication skills to help with demand forecasting and supply optimization for the entire Amazon device family of products and accessories. We develop scalable and robust state-of-the-art solutions that involve learning from different data sources. This role is central to the continued growth of Amazon Device division as we have grown from the first Kindle E-Reader to a vast portfolio of Echo, Fire TV, Fire Tablet, E-Reader, Ring and many other devices. With better forecasts we drive down supply chain costs, enabling the offer of lower prices and better in-stock selection for our customers.\n",
      "In this role, you will have an opportunity to both develop advanced scientific solutions and drive critical customer and business impacts. You will play a key role to drive end-to-end solutions from understanding our business requirements, exploring a large amount of historical data, building prototypes and exploring conceptually new solutions, to working with partner teams for prod deployment. You will collaborate closely with engineering peers as well as business stakeholders. You will be at the heart of a growing and exciting focus area for Amazon Devices.\n",
      "\n",
      "You are an individual with outstanding analytical abilities, excellent communication skills, and are comfortable working with cross-functional teams and systems. You will be responsible for researching, prototyping, experimenting, and analyzing predictive models.\n",
      "\n",
      "Key responsibilities:\n",
      " - Research and develop new methodologies for demand forecasting and price modeling. - Improve upon existing methodologies by adding new data sources and implementing model enhancements. - Drive scalable solutions. - Create and track accuracy and performance metrics (both technical and business metrics). - Create, enhance, and maintain technical documentation, and present to other scientists, engineers and business leaders. - Drive best practices on the team; mentor and guide junior members to achieve their career growth potential.\n",
      "\n",
      " - Experience with time series modeling and machine learning forecasting. - Experience with price modeling. \n",
      "\n",
      " ************************************************************************ \n",
      "\n",
      "\n",
      "At Equiscript, we improve access to healthcare in the communities we serve. We are able to do this through the motivation, ingenuity, and dedication of our talented team.\n",
      "\n",
      "Are you looking for a career where you can be part of a successful, growing business that is doing meaningful work in communities across the country?\n",
      "\n",
      "Located in historic North Charleston and Salt Lake City, Equiscript has been on the Inc. 5000 list of Fastest Growing Companies in the United States for the past four years and was chosen as one of the Best Places to Work in South Carolina three years in a row. We were also named one of Modern Healthcare's 2019 Best Places to Work in Healthcare. We are a dynamic, growing company that values its employees and the patients and health centers we serve. As passionate people who enjoy coming to work and being part of a team, we are looking for candidates who will support and embrace our company’s Cause and Core Values. If this is you, apply today!\n",
      "\n",
      "Sr Director of Data &amp; Analytics::\n",
      "<p>\n",
      "General Description:<p>\n",
      "<p>Equiscript is seeking an experienced candidate to serve in the role of Senior Director of Data and Analytics (SDDA). The SDDA will serve as a department and business leader, reporting to the CFO.<p>\n",
      "<p>High-Level Vision - :the SDDR is responsible for the big picture of the data priorities and strategy for the company. A high level of understanding of both data and strategy and the company’s business is required.<p>\n",
      "<p>Implementation -: The SDDR is responsible for the implementation of data-driven solutions within the company’s strategy at every level in the company. This requires the ability to manage teams on technical projects and build a business case around technical projects with many variables and uncertainty.<p>\n",
      "<p>Data Accuracy, Security, and Privacy - :the SDDR is responsible for collecting and maintaining accurate data, ensuring data security, and devising and implementing data privacy policies. The SDDR is to work with leadership to develop, define, and implement legal and ethical guidelines for the collection and use of data.<p>\n",
      "<p>Identifying Business Opportunities - :The SDDR is the person most responsible for identifying business opportunities discovered through data. In broad terms, the SDDR should increase revenue or decrease costs based upon information learned through data initiatives.<p>\n",
      "<p>Data-Driven Culture Leader - :The SDDR must serve as the leader for a data-driven culture within the company. This includes communicating to everyone at the company the importance of data, security, and privacy as well as the business value of data.<p>\n",
      "<p>Key Responsibilities:<p>\n",
      "<p>The SDDA will develop new ways to interpret and use data to advance Equiscript’s business. Working closely with the Sr. Director of Information Services, this position will build the structure and processes necessary to serve internal business users. In this role, the SDDA will define how Equiscript looks at reporting, tracking, and decision-making. The SDDA will:<p>\n",
      " - <p>Have expertise in creating and driving business value and growth through the effective use of data.<p>\n",
      " - <p>Collaborate with IT on the architecture, design, integration, and staging of data and the development, implementation, and maintenance of the associated data storage systems.<p>\n",
      " - <p>Be responsible for developing and administering Equiscript’s data and information strategy in order to facilitate and enhance organizational decision-making and data utilization across the company.<p>\n",
      " - <p>Lead a centralized Data and Analytics service and develop data-related policies and procedures; design, improve, and streamline organizational data systems; and drive innovation in the area of enterprise-wide data science, analysis, and visualization.<p>\n",
      " - <p>Be responsible for recruiting staff or engaging contractors that can use emerging technologies to improve the performance of the company.<p>\n",
      " - <p>Be responsible for developing and administering Equiscript’s data and information strategy in order to facilitate and enhance organizational decision-making and data utilization across the company.<p>\n",
      " - <p>Be responsible for overseeing the development and management of new machine learning and predictive modeling algorithms.<p>\n",
      " - <p>Be responsible for communicating effectively with all company departments and helping those departments perform to a higher standard with tools developed under the oversight of the SDDA.<p>\n",
      " - <p>Serve as a system-wide leader for data and analytics. Working closely with our client, patient, and pharmacy facing teams, develop a comprehensive understanding of the company’s overall business goals and data analytics needs<p>\n",
      " - <p>Analyze data, identify trends, and recommend how to improve and grow the business<p>\n",
      " - <p>Build and establish the automation of reports &amp; dashboards – identify and select analytics partners to improve reporting<p>\n",
      " - <p>Own and expand patient identification and patient lifecycle and lifetime value reporting<p>\n",
      " - <p>Present data in a clear and concise way to the executive team<p>\n",
      " - <p>Research the latest technologies and assess their impact on business trends<p>\n",
      "<p>Professional Qualities:<p>\n",
      " - <p>Evidence of strong leadership and communication skills at a C- or board level<p>\n",
      " - <p>Experience in information management projects and programs<p>\n",
      " - <p>Familiarity with big data solutions<p>\n",
      " - <p>Familiarity with data governance and quality control<p>\n",
      " - <p>Background in statistics or mathematics<p>\n",
      " - <p>Experience with creating best practices and methodologies for technical projects<p>\n",
      " - <p>Experience managing technical teams<p>\n",
      " - <p>Understanding of and experience building business cases for large technical projects<p>\n",
      " - <p>Familiarity with data modelling and visualization techniques<p>\n",
      " - <p>Strong business experience in the field<p>\n",
      "<p>Preferred Experience:<p>\n",
      " - <p>Bachelor’s or graduate degree in a quantitative field such as Mathematics, Statistics, Computer Science, Finance, Economics, or a related field.<p>\n",
      " - <p>5-8 years of experience working with data analytics teams to provide reporting, analysis, modeling, and strategic insight<p>\n",
      " - <p>Experience with a variety of analytics platforms and database programming languages (i.e. CRM, Web Analytics, BI tools, etc)<p>\n",
      " - <p>Experience in integrating complex, inter-departmental processes and information strategies, and/or designing strategic metrics and scorecards required.<p>\n",
      " - <p>Experience running data analytics teams using the latest data mining, machine learning and/or artificial intelligence techniques required. Clinical background, or technical background in the healthcare domain is highly desirable.<p>\n",
      " - <p>Hands-on experience with implementing data management programs preferred.<p>\n",
      " - <p>Ability to provide written and oral interpretation of highly specialized terms and data, and the ability to present this data to others with different levels of expertise<p>\n",
      "<p>\n",
      "Computer Skills:\n",
      "<p> - Statistical analysis software/packages such as R, Minitab, SAS/STAT, etc.\n",
      " - <p>Visualization/BI tools such as Tableau, PowerBI, etc.<p>\n",
      " - <p>Ability to write and tune SQL queries<p>\n",
      " - <p>Advanced Database/warehouse/lake knowledge; Master Data Management (MDM) applications; and Extract-Transform-Load (ETL/ELT) tool<p>\n",
      "<p>Physical Requirements:<p>\n",
      " - <p>Requires the ability to sit or stand for long periods of time, occasional stooping, and reaching; May require lifting up to 25 pounds; requires a normal range of vision and hearing with or without accommodations.<p>\n",
      "<p>Additional Information:<p>\n",
      " - <p>Cleared Background Check Required<p>\n",
      "<p>Employment Information:<p>\n",
      " - <p>Position located in North Charleston, SC but remote candidates will be considered. Remote candidates will be expected to travel approximately 20% to the main office.<p>\n",
      " - <p>Benefits include health plan, dental, vision, paid time off<p>\n",
      " - <p>Flex time<p>\n",
      " - <p>401k with up to 4% match<p>\n",
      "<p>Benefits of Full Time Employment with Equiscript:<p>\n",
      " - Competitive salaries\n",
      " - Interesting, challenging, meaningful work\n",
      " - Bright, high quality teammates\n",
      " - Strong company culture based on teamwork and healthy competition\n",
      " - Group health, dental, vision, life and disability insurance\n",
      " - 401K with up to a 4% match\n",
      " - Wellness programs\n",
      " - Company-provided training for personal and professional development\n",
      " - Generous PTO Policy\n",
      " - 10 paid holidays annually\n",
      " - Flexible schedule\n",
      " - Casual dress code\n",
      " - Parking \n",
      "\n",
      " ************************************************************************ \n",
      "\n",
      "\n"
     ]
    }
   ],
   "source": [
    "# Write a FOR loop that cleans and prints out the text from the first four rows of our DataFrame.\n",
    "# Place a separator between the text. \n",
    "\n",
    "\n",
    "for iterator in range(0, 4):\n",
    "    print(text_cleaner(df.loc[iterator, 'text']), '\\n\\n', '*'*72, '\\n\\n')"
   ]
  },
  {
   "cell_type": "markdown",
   "metadata": {},
   "source": [
    "Finally, write a loop that \n",
    ">1. pulls the raw text from each row in the DataFrame,\n",
    ">1. cleans the raw text,\n",
    ">1. places the clean text in a column called 'clean_text' in the appropriate row for each text, and\n",
    ">1. print out a sample of five entries from the DataFrame to verify our work."
   ]
  },
  {
   "cell_type": "code",
   "execution_count": 14,
   "metadata": {
    "ExecuteTime": {
     "end_time": "2020-05-26T21:07:56.680057Z",
     "start_time": "2020-05-26T21:07:56.651567Z"
    }
   },
   "outputs": [
    {
     "data": {
      "text/html": [
       "<div>\n",
       "<style scoped>\n",
       "    .dataframe tbody tr th:only-of-type {\n",
       "        vertical-align: middle;\n",
       "    }\n",
       "\n",
       "    .dataframe tbody tr th {\n",
       "        vertical-align: top;\n",
       "    }\n",
       "\n",
       "    .dataframe thead th {\n",
       "        text-align: right;\n",
       "    }\n",
       "</style>\n",
       "<table border=\"1\" class=\"dataframe\">\n",
       "  <thead>\n",
       "    <tr style=\"text-align: right;\">\n",
       "      <th></th>\n",
       "      <th>job_id</th>\n",
       "      <th>title</th>\n",
       "      <th>company</th>\n",
       "      <th>url</th>\n",
       "      <th>text</th>\n",
       "      <th>pull_date</th>\n",
       "      <th>clean_text</th>\n",
       "    </tr>\n",
       "  </thead>\n",
       "  <tbody>\n",
       "    <tr>\n",
       "      <th>37</th>\n",
       "      <td>jl_9fb36189ab1f631e</td>\n",
       "      <td>Software Development Engineer – Alexa AI- Seattle</td>\n",
       "      <td>Amazon.com Services LLC</td>\n",
       "      <td>https://www.indeed.com/viewjob?jk=9fb36189ab1f...</td>\n",
       "      <td>&lt;div class=\"jobsearch-jobDescriptionText\" id=\"...</td>\n",
       "      <td>2020-05-26</td>\n",
       "      <td>- 2+ years of non-internship professional sof...</td>\n",
       "    </tr>\n",
       "    <tr>\n",
       "      <th>13</th>\n",
       "      <td>jl_ae385acd8d2ea925</td>\n",
       "      <td>Senior Data &amp; Applied Scientist</td>\n",
       "      <td>Microsoft</td>\n",
       "      <td>https://www.indeed.com/viewjob?jk=ae385acd8d2e...</td>\n",
       "      <td>&lt;div class=\"jobsearch-jobDescriptionText\" id=\"...</td>\n",
       "      <td>2020-05-25</td>\n",
       "      <td>Analytics team in Azure Hardware Systems &amp;amp;...</td>\n",
       "    </tr>\n",
       "    <tr>\n",
       "      <th>30</th>\n",
       "      <td>jl_900d5e7e57d3225e</td>\n",
       "      <td>Data Scientist</td>\n",
       "      <td>Amazon.com Services LLC</td>\n",
       "      <td>https://www.indeed.com/viewjob?jk=900d5e7e57d3...</td>\n",
       "      <td>&lt;div class=\"jobsearch-jobDescriptionText\" id=\"...</td>\n",
       "      <td>2020-05-26</td>\n",
       "      <td>- PhD or equivalent Master's Degree plus 4+ y...</td>\n",
       "    </tr>\n",
       "    <tr>\n",
       "      <th>14</th>\n",
       "      <td>jl_ef4f45eee0d53000</td>\n",
       "      <td>Engineering Manager, Ads Machine Learning</td>\n",
       "      <td>Pinterest</td>\n",
       "      <td>https://www.indeed.com/viewjob?jk=ef4f45eee0d5...</td>\n",
       "      <td>&lt;div class=\"jobsearch-jobDescriptionText\" id=\"...</td>\n",
       "      <td>2020-05-25</td>\n",
       "      <td>&lt;p&gt;About Pinterest:&lt;p&gt;\\n&lt;p&gt;\\nMillions of peopl...</td>\n",
       "    </tr>\n",
       "    <tr>\n",
       "      <th>41</th>\n",
       "      <td>jl_a03acf446a8a2c6b</td>\n",
       "      <td>Senior Data Scientist</td>\n",
       "      <td>Amazon.com Services LLC</td>\n",
       "      <td>https://www.indeed.com/viewjob?jk=a03acf446a8a...</td>\n",
       "      <td>&lt;div class=\"jobsearch-jobDescriptionText\" id=\"...</td>\n",
       "      <td>2020-05-26</td>\n",
       "      <td>Bachelor or Master's degree in Statistics, App...</td>\n",
       "    </tr>\n",
       "  </tbody>\n",
       "</table>\n",
       "</div>"
      ],
      "text/plain": [
       "                 job_id                                              title  \\\n",
       "37  jl_9fb36189ab1f631e  Software Development Engineer – Alexa AI- Seattle   \n",
       "13  jl_ae385acd8d2ea925                    Senior Data & Applied Scientist   \n",
       "30  jl_900d5e7e57d3225e                                     Data Scientist   \n",
       "14  jl_ef4f45eee0d53000          Engineering Manager, Ads Machine Learning   \n",
       "41  jl_a03acf446a8a2c6b                              Senior Data Scientist   \n",
       "\n",
       "                    company  \\\n",
       "37  Amazon.com Services LLC   \n",
       "13                Microsoft   \n",
       "30  Amazon.com Services LLC   \n",
       "14                Pinterest   \n",
       "41  Amazon.com Services LLC   \n",
       "\n",
       "                                                  url  \\\n",
       "37  https://www.indeed.com/viewjob?jk=9fb36189ab1f...   \n",
       "13  https://www.indeed.com/viewjob?jk=ae385acd8d2e...   \n",
       "30  https://www.indeed.com/viewjob?jk=900d5e7e57d3...   \n",
       "14  https://www.indeed.com/viewjob?jk=ef4f45eee0d5...   \n",
       "41  https://www.indeed.com/viewjob?jk=a03acf446a8a...   \n",
       "\n",
       "                                                 text   pull_date  \\\n",
       "37  <div class=\"jobsearch-jobDescriptionText\" id=\"...  2020-05-26   \n",
       "13  <div class=\"jobsearch-jobDescriptionText\" id=\"...  2020-05-25   \n",
       "30  <div class=\"jobsearch-jobDescriptionText\" id=\"...  2020-05-26   \n",
       "14  <div class=\"jobsearch-jobDescriptionText\" id=\"...  2020-05-25   \n",
       "41  <div class=\"jobsearch-jobDescriptionText\" id=\"...  2020-05-26   \n",
       "\n",
       "                                           clean_text  \n",
       "37   - 2+ years of non-internship professional sof...  \n",
       "13  Analytics team in Azure Hardware Systems &amp;...  \n",
       "30   - PhD or equivalent Master's Degree plus 4+ y...  \n",
       "14  <p>About Pinterest:<p>\\n<p>\\nMillions of peopl...  \n",
       "41  Bachelor or Master's degree in Statistics, App...  "
      ]
     },
     "execution_count": 14,
     "metadata": {},
     "output_type": "execute_result"
    }
   ],
   "source": [
    "for index, text in enumerate(df['text']):\n",
    "    df.loc[index, 'clean_text'] = text_cleaner(text)\n",
    "    \n",
    "df.sample(5)"
   ]
  },
  {
   "cell_type": "markdown",
   "metadata": {},
   "source": [
    "## Tokenizing Words \n",
    "\n",
    "\"Tokenizing\" is the splitting of a text entry into smaller parts, which we call 'tokens'. Tokens can be individual words, individual sentences, or individual paragraphs depending upon what unit of measure you want to use. For our purposes right now, we want to tokenize our clean_text by words.\n",
    "\n",
    "There are several techniques to splitting up a string into words. We will look at two methods. \n",
    "\n",
    "### Method 1: The .split( ) Command\n",
    "\n",
    "The `.split()` command is not specific to tokenizing words, but we can use it to split a string into words. The `.split()` command can be used to split a string almost anyway that you want it to split; how it splits a string depends upon how you want it to split. \n",
    "\n",
    "The syntax of the `.split()` command is simple:\n",
    "> text = text.split('what spaces, letters or character by which you want the string split')\n",
    "\n",
    "In the function below, notice this syntax in line 3. \n",
    "\n",
    "But what are we doing in line 2?"
   ]
  },
  {
   "cell_type": "code",
   "execution_count": 15,
   "metadata": {
    "ExecuteTime": {
     "end_time": "2020-05-26T21:07:56.685922Z",
     "start_time": "2020-05-26T21:07:56.682061Z"
    }
   },
   "outputs": [],
   "source": [
    "# Function to using the split command to tokenize a string by words. \n",
    "\n",
    "def tokenize_by_words2(text):\n",
    "    text = text.replace('\\n', ' ')\n",
    "    text = text.split(' ')\n",
    "    return text"
   ]
  },
  {
   "cell_type": "markdown",
   "metadata": {},
   "source": [
    "### Method 2: Using nltk to Tokenize by Words\n",
    "\n",
    "The second method to tokenize a string by words is to use the nltk library's `word_tokenize()` function. \n",
    "\n",
    "\"NLTK is a leading platform for building Python programs to work with human language data. It provides easy-to-use interfaces to over 50 corpora and lexical resources such as WordNet, along with a suite of text processing libraries for classification, tokenization, stemming, tagging, parsing, and semantic reasoning, and wrappers for industrial-strength NLP libraries.\" [https://www.nltk.org/]\n",
    "\n",
    "In the next function, you will note that\n",
    ">1. in line 4, I added an `import` statement import the needed function out of the nltk library\n",
    ">1. in lines 5 & 6, I added the `str()` command to the tokenized text so that it saves as a tokenized string"
   ]
  },
  {
   "cell_type": "code",
   "execution_count": 16,
   "metadata": {
    "ExecuteTime": {
     "end_time": "2020-05-26T21:07:56.691347Z",
     "start_time": "2020-05-26T21:07:56.687823Z"
    }
   },
   "outputs": [],
   "source": [
    "#Tokenize a document's text given as a string to the word level and returning a list of tokenized words\n",
    "\n",
    "def tokenize_by_words(text):\n",
    "    from nltk.tokenize import word_tokenize\n",
    "    token_text = str(word_tokenize(text))\n",
    "    return str(token_text)"
   ]
  },
  {
   "cell_type": "markdown",
   "metadata": {},
   "source": [
    "## Cleaning White Space\n",
    "\n",
    "\n",
    "### Clean Leading and Trailing White Spaces"
   ]
  },
  {
   "cell_type": "code",
   "execution_count": 17,
   "metadata": {
    "ExecuteTime": {
     "end_time": "2020-05-26T21:07:56.696089Z",
     "start_time": "2020-05-26T21:07:56.693457Z"
    }
   },
   "outputs": [],
   "source": [
    "test_string = ' The   Red fox   Jumped  over The  Lazy dog. '"
   ]
  },
  {
   "cell_type": "code",
   "execution_count": 18,
   "metadata": {
    "ExecuteTime": {
     "end_time": "2020-05-26T21:07:56.701263Z",
     "start_time": "2020-05-26T21:07:56.697966Z"
    }
   },
   "outputs": [
    {
     "name": "stdout",
     "output_type": "stream",
     "text": [
      "The   Red fox   Jumped  over The  Lazy dog.\n"
     ]
    }
   ],
   "source": [
    "phrase = test_string.strip()\n",
    "    \n",
    "print(phrase)"
   ]
  },
  {
   "cell_type": "markdown",
   "metadata": {},
   "source": [
    "### Clean White Space using .replace( )"
   ]
  },
  {
   "cell_type": "code",
   "execution_count": 19,
   "metadata": {
    "ExecuteTime": {
     "end_time": "2020-05-26T21:07:56.707732Z",
     "start_time": "2020-05-26T21:07:56.702938Z"
    }
   },
   "outputs": [
    {
     "data": {
      "text/plain": [
       "'The Red fox Jumped over The Lazy dog.'"
      ]
     },
     "execution_count": 19,
     "metadata": {},
     "output_type": "execute_result"
    }
   ],
   "source": [
    "test_string = test_string.replace('   ', ' ')\n",
    "test_string = test_string.replace('  ', ' ')\n",
    "test_string.strip()"
   ]
  },
  {
   "cell_type": "markdown",
   "metadata": {},
   "source": [
    "## Normalizing Text\n",
    "\n",
    "### Make all words lower case using .lower( )"
   ]
  },
  {
   "cell_type": "code",
   "execution_count": 20,
   "metadata": {
    "ExecuteTime": {
     "end_time": "2020-05-26T21:07:56.713146Z",
     "start_time": "2020-05-26T21:07:56.709361Z"
    }
   },
   "outputs": [
    {
     "data": {
      "text/plain": [
       "' the red fox jumped over the lazy dog. '"
      ]
     },
     "execution_count": 20,
     "metadata": {},
     "output_type": "execute_result"
    }
   ],
   "source": [
    "test_string.lower()"
   ]
  },
  {
   "cell_type": "markdown",
   "metadata": {},
   "source": [
    "### Make all words upper case using .upper( )"
   ]
  },
  {
   "cell_type": "code",
   "execution_count": 21,
   "metadata": {
    "ExecuteTime": {
     "end_time": "2020-05-26T21:07:56.718976Z",
     "start_time": "2020-05-26T21:07:56.714737Z"
    }
   },
   "outputs": [
    {
     "data": {
      "text/plain": [
       "' THE RED FOX JUMPED OVER THE LAZY DOG. '"
      ]
     },
     "execution_count": 21,
     "metadata": {},
     "output_type": "execute_result"
    }
   ],
   "source": [
    "test_string.upper()"
   ]
  },
  {
   "cell_type": "markdown",
   "metadata": {},
   "source": [
    "### Make the First Letter in Each Word Uppercase using .title( )"
   ]
  },
  {
   "cell_type": "code",
   "execution_count": 22,
   "metadata": {
    "ExecuteTime": {
     "end_time": "2020-05-26T21:07:56.723654Z",
     "start_time": "2020-05-26T21:07:56.720284Z"
    }
   },
   "outputs": [
    {
     "data": {
      "text/plain": [
       "' The Red Fox Jumped Over The Lazy Dog. '"
      ]
     },
     "execution_count": 22,
     "metadata": {},
     "output_type": "execute_result"
    }
   ],
   "source": [
    "test_string.title()"
   ]
  },
  {
   "cell_type": "markdown",
   "metadata": {},
   "source": [
    "## Exercise\n",
    "\n",
    "As you look at the output from the line above, you see that we have spaces and at the end of the line. Each word in the string is capitalized. We want to correct these two issues. \n",
    "\n",
    "In the next block, using what you have learned in all of our lessons, write a function that would take any string and return a string that is correct with capitalization and non-capitalized words.\n",
    "\n",
    "After writing the function, run the function on the list of strings in the second block. Did you get it correct?"
   ]
  },
  {
   "cell_type": "code",
   "execution_count": 23,
   "metadata": {
    "ExecuteTime": {
     "end_time": "2020-05-26T21:07:56.729864Z",
     "start_time": "2020-05-26T21:07:56.726182Z"
    }
   },
   "outputs": [],
   "source": [
    "# Write a function to correct the text capitalization\n",
    "# The function should capitalize the first letter only in each string.\n",
    "\n",
    "def correct_captialization(strings_list):\n",
    "    new_string = []\n",
    "    for string in strings_list:\n",
    "        string = string.lower()\n",
    "        new_string.append(string[0].upper()+string[1:])\n",
    "    return new_string"
   ]
  },
  {
   "cell_type": "code",
   "execution_count": 24,
   "metadata": {
    "ExecuteTime": {
     "end_time": "2020-05-26T21:07:56.735708Z",
     "start_time": "2020-05-26T21:07:56.732110Z"
    }
   },
   "outputs": [
    {
     "name": "stdout",
     "output_type": "stream",
     "text": [
      "['The large box contained her gift.', 'Jack does not like getting water.']\n"
     ]
    }
   ],
   "source": [
    "# Use the following strings list to test your function\n",
    "\n",
    "strings_list = ['THE large Box cOntained Her gift.', 'Jack DoeS Not LiKe Getting Water.']\n",
    "\n",
    "print(correct_captialization(strings_list))\n"
   ]
  },
  {
   "cell_type": "markdown",
   "metadata": {},
   "source": [
    "Let's now save our DataFrame for future use."
   ]
  },
  {
   "cell_type": "code",
   "execution_count": 26,
   "metadata": {
    "ExecuteTime": {
     "end_time": "2020-05-26T21:08:10.090059Z",
     "start_time": "2020-05-26T21:08:10.072695Z"
    }
   },
   "outputs": [],
   "source": [
    "job_title = job_title.replace(' ', '_')\n",
    "df.to_csv('data/'+job_title+'_job_search.csv')"
   ]
  },
  {
   "cell_type": "code",
   "execution_count": null,
   "metadata": {},
   "outputs": [],
   "source": []
  }
 ],
 "metadata": {
  "kernelspec": {
   "display_name": "Python 3",
   "language": "python",
   "name": "python3"
  },
  "language_info": {
   "codemirror_mode": {
    "name": "ipython",
    "version": 3
   },
   "file_extension": ".py",
   "mimetype": "text/x-python",
   "name": "python",
   "nbconvert_exporter": "python",
   "pygments_lexer": "ipython3",
   "version": "3.7.4"
  },
  "toc": {
   "base_numbering": 1,
   "nav_menu": {},
   "number_sections": true,
   "sideBar": true,
   "skip_h1_title": false,
   "title_cell": "Table of Contents",
   "title_sidebar": "Contents",
   "toc_cell": false,
   "toc_position": {},
   "toc_section_display": true,
   "toc_window_display": true
  }
 },
 "nbformat": 4,
 "nbformat_minor": 4
}
